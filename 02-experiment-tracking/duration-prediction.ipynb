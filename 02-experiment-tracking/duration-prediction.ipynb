{
 "cells": [
  {
   "cell_type": "code",
   "execution_count": 62,
   "id": "869dd66d",
   "metadata": {},
   "outputs": [],
   "source": [
    "#pip install pyarrow\n"
   ]
  },
  {
   "cell_type": "code",
   "execution_count": 63,
   "id": "36a76057",
   "metadata": {},
   "outputs": [],
   "source": [
    "# Import necessary libraries\n",
    "import pandas as pd\n",
    "import pickle\n",
    "from sklearn.feature_extraction import DictVectorizer\n",
    "from sklearn.linear_model import LinearRegression\n",
    "from sklearn.tree import DecisionTreeRegressor\n",
    "from sklearn.metrics import mean_squared_error\n",
    "import torch\n",
    "import torch.nn as nn\n",
    "from torch.utils.data import DataLoader, TensorDataset\n",
    "import mlflow\n"
   ]
  },
  {
   "cell_type": "code",
   "execution_count": 64,
   "id": "3fa29c78",
   "metadata": {},
   "outputs": [
    {
     "data": {
      "text/plain": [
       "<Experiment: artifact_location='/workspaces/mlops_zoombootcamp/02-experiment-tracking/mlruns/1', creation_time=1720343683537, experiment_id='1', last_update_time=1720343683537, lifecycle_stage='active', name='nyc-taxi-experiment', tags={}>"
      ]
     },
     "execution_count": 64,
     "metadata": {},
     "output_type": "execute_result"
    }
   ],
   "source": [
    "mlflow.set_tracking_uri('sqlite:///mlflow.db')\n",
    "mlflow.set_experiment('nyc-taxi-experiment')"
   ]
  },
  {
   "cell_type": "code",
   "execution_count": 65,
   "id": "1ff9827c",
   "metadata": {},
   "outputs": [],
   "source": [
    "#experiment_id = mlflow.create_experiment(\"New Experiment Name\")\n",
    "#mlflow.set_experiment(experiment_id)"
   ]
  },
  {
   "cell_type": "code",
   "execution_count": null,
   "id": "e128b385",
   "metadata": {},
   "outputs": [],
   "source": []
  },
  {
   "cell_type": "code",
   "execution_count": 66,
   "id": "61e0b337",
   "metadata": {},
   "outputs": [],
   "source": [
    "# Function to read and preprocess data\n",
    "def read_dataframe(filename):\n",
    "    df = pd.read_parquet(filename)\n",
    "    df['duration'] = (df['tpep_dropoff_datetime'] - df['tpep_pickup_datetime']).dt.total_seconds() / 60\n",
    "    df = df[(df['duration'] >= 1) & (df['duration'] <= 60)]\n",
    "    df['PULocationID'] = df['PULocationID'].astype('category')\n",
    "    df['DOLocationID'] = df['DOLocationID'].astype('category')\n",
    "    return df"
   ]
  },
  {
   "cell_type": "code",
   "execution_count": 67,
   "id": "ed58838c",
   "metadata": {},
   "outputs": [],
   "source": [
    "# Load and prepare training and validation data\n",
    "df_train = read_dataframe('data/yellow_tripdata_2023-01.parquet')\n",
    "df_val = read_dataframe('data/yellow_tripdata_2023-02.parquet')\n",
    "target = 'duration'\n",
    "categorical_columns = ['PULocationID', 'DOLocationID']"
   ]
  },
  {
   "cell_type": "markdown",
   "id": "f2a4e58f",
   "metadata": {},
   "source": [
    "<div style=\"background-color: green; color: white; padding: 10px;\">\n",
    "\n",
    "The purpose of the talk is purely focused on MLOps. I have selected only a few columns in order to keep the model and training process simple.\n",
    "\n",
    "</div>\n",
    "\n"
   ]
  },
  {
   "cell_type": "code",
   "execution_count": 68,
   "id": "1e67e9d5",
   "metadata": {},
   "outputs": [
    {
     "data": {
      "text/plain": [
       "count    3.009173e+06\n",
       "mean     1.420486e+01\n",
       "std      9.939386e+00\n",
       "min      1.000000e+00\n",
       "25%      7.216667e+00\n",
       "50%      1.155000e+01\n",
       "75%      1.818333e+01\n",
       "max      6.000000e+01\n",
       "Name: duration, dtype: float64"
      ]
     },
     "execution_count": 68,
     "metadata": {},
     "output_type": "execute_result"
    }
   ],
   "source": [
    "df_train['duration'].describe()"
   ]
  },
  {
   "cell_type": "code",
   "execution_count": 69,
   "id": "329d9fdc",
   "metadata": {},
   "outputs": [],
   "source": [
    "# Vectorize categorical features\n",
    "dv = DictVectorizer(sparse=False)\n",
    "X_train = dv.fit_transform(df_train[categorical_columns].to_dict(orient='records'))\n",
    "X_val = dv.transform(df_val[categorical_columns].to_dict(orient='records'))\n",
    "y_train = df_train[target].values\n",
    "y_val = df_val[target].values"
   ]
  },
  {
   "cell_type": "code",
   "execution_count": 70,
   "id": "1dc46e8e",
   "metadata": {},
   "outputs": [
    {
     "name": "stdout",
     "output_type": "stream",
     "text": [
      "Dimensionality (number of columns): 2\n"
     ]
    }
   ],
   "source": [
    "print(\"Dimensionality (number of columns):\", X_val.shape[1])"
   ]
  },
  {
   "cell_type": "code",
   "execution_count": 71,
   "id": "18aeb179",
   "metadata": {},
   "outputs": [],
   "source": [
    "##LinearRegression"
   ]
  },
  {
   "cell_type": "code",
   "execution_count": 72,
   "id": "56a86b31",
   "metadata": {},
   "outputs": [
    {
     "name": "stdout",
     "output_type": "stream",
     "text": [
      "Linear Regression MSE: 9.963607595829973\n"
     ]
    },
    {
     "name": "stderr",
     "output_type": "stream",
     "text": [
      "/home/codespace/.local/lib/python3.10/site-packages/sklearn/metrics/_regression.py:492: FutureWarning: 'squared' is deprecated in version 1.4 and will be removed in 1.6. To calculate the root mean squared error, use the function'root_mean_squared_error'.\n",
      "  warnings.warn(\n"
     ]
    }
   ],
   "source": [
    "lr = LinearRegression()\n",
    "lr.fit(X_train, y_train)\n",
    "lr_rmse = mean_squared_error(y_val, lr.predict(X_val), squared=False)\n",
    "print(\"Linear Regression MSE:\", lr_rmse)"
   ]
  },
  {
   "cell_type": "code",
   "execution_count": 73,
   "id": "6c39a48e",
   "metadata": {},
   "outputs": [],
   "source": [
    " mlflow.end_run()"
   ]
  },
  {
   "cell_type": "code",
   "execution_count": 74,
   "id": "9292cdea",
   "metadata": {},
   "outputs": [
    {
     "name": "stdout",
     "output_type": "stream",
     "text": [
      "Linear Regression MSE: 9.963607595829973\n"
     ]
    },
    {
     "name": "stderr",
     "output_type": "stream",
     "text": [
      "/home/codespace/.local/lib/python3.10/site-packages/sklearn/metrics/_regression.py:492: FutureWarning: 'squared' is deprecated in version 1.4 and will be removed in 1.6. To calculate the root mean squared error, use the function'root_mean_squared_error'.\n",
      "  warnings.warn(\n"
     ]
    }
   ],
   "source": [
    "from sklearn import linear_model\n",
    "with mlflow.start_run():\n",
    "    mlflow.set_tag('developer','Huseyn')\n",
    "    mlflow.log_param('train-data-path', 'data/yellow_tripdata_2023-01.parquet')\n",
    "    mlflow.log_param('valid-data-path', 'data/yellow_tripdata_2023-02.parquet')\n",
    "    alpha=0.01\n",
    "    ls = linear_model.Lasso(alpha=alpha)\n",
    "    ls.fit(X_train, y_train)\n",
    "    ls_rmse = mean_squared_error(y_val, lr.predict(X_val), squared=False)\n",
    "    mlflow.log_metric('rmse',ls_rmse)\n",
    "    print(\"Linear Regression MSE:\", ls_rmse)\n"
   ]
  },
  {
   "cell_type": "code",
   "execution_count": 75,
   "id": "0bbb428c",
   "metadata": {},
   "outputs": [
    {
     "name": "stderr",
     "output_type": "stream",
     "text": [
      "/home/codespace/.local/lib/python3.10/site-packages/sklearn/metrics/_regression.py:492: FutureWarning: 'squared' is deprecated in version 1.4 and will be removed in 1.6. To calculate the root mean squared error, use the function'root_mean_squared_error'.\n",
      "  warnings.warn(\n"
     ]
    },
    {
     "name": "stdout",
     "output_type": "stream",
     "text": [
      "Linear Regression RMSE with alpha=0.01: 9.96360781849841\n"
     ]
    },
    {
     "name": "stderr",
     "output_type": "stream",
     "text": [
      "/home/codespace/.local/lib/python3.10/site-packages/sklearn/metrics/_regression.py:492: FutureWarning: 'squared' is deprecated in version 1.4 and will be removed in 1.6. To calculate the root mean squared error, use the function'root_mean_squared_error'.\n",
      "  warnings.warn(\n"
     ]
    },
    {
     "name": "stdout",
     "output_type": "stream",
     "text": [
      "Linear Regression RMSE with alpha=0.05: 9.963608750857988\n"
     ]
    },
    {
     "name": "stderr",
     "output_type": "stream",
     "text": [
      "/home/codespace/.local/lib/python3.10/site-packages/sklearn/metrics/_regression.py:492: FutureWarning: 'squared' is deprecated in version 1.4 and will be removed in 1.6. To calculate the root mean squared error, use the function'root_mean_squared_error'.\n",
      "  warnings.warn(\n"
     ]
    },
    {
     "name": "stdout",
     "output_type": "stream",
     "text": [
      "Linear Regression RMSE with alpha=0.1: 9.963610009929864\n"
     ]
    },
    {
     "name": "stderr",
     "output_type": "stream",
     "text": [
      "/home/codespace/.local/lib/python3.10/site-packages/sklearn/metrics/_regression.py:492: FutureWarning: 'squared' is deprecated in version 1.4 and will be removed in 1.6. To calculate the root mean squared error, use the function'root_mean_squared_error'.\n",
      "  warnings.warn(\n"
     ]
    },
    {
     "name": "stdout",
     "output_type": "stream",
     "text": [
      "Linear Regression RMSE with alpha=0.5: 9.963623827395615\n",
      "Linear Regression RMSE with alpha=1.0: 9.96365046141962\n"
     ]
    },
    {
     "name": "stderr",
     "output_type": "stream",
     "text": [
      "/home/codespace/.local/lib/python3.10/site-packages/sklearn/metrics/_regression.py:492: FutureWarning: 'squared' is deprecated in version 1.4 and will be removed in 1.6. To calculate the root mean squared error, use the function'root_mean_squared_error'.\n",
      "  warnings.warn(\n"
     ]
    }
   ],
   "source": [
    "\n",
    "alpha_values = [0.01, 0.05, 0.1, 0.5, 1.0]\n",
    "for alpha in alpha_values:\n",
    "    with mlflow.start_run():\n",
    "        mlflow.set_tag('developer', 'Huseyn')\n",
    "        mlflow.log_param('train-data-path', 'data/yellow_tripdata_2023-01.parquet')\n",
    "        mlflow.log_param('valid-data-path', 'data/yellow_tripdata_2023-02.parquet')\n",
    "        mlflow.log_param('alpha', alpha)\n",
    "        ls = linear_model.Lasso(alpha=alpha)\n",
    "        ls.fit(X_train, y_train)\n",
    "        ls_rmse = mean_squared_error(y_val, ls.predict(X_val), squared=False)\n",
    "        mlflow.log_metric('rmse', ls_rmse)\n",
    "        print(f\"Linear Regression RMSE with alpha={alpha}: {ls_rmse}\")\n"
   ]
  },
  {
   "cell_type": "code",
   "execution_count": 76,
   "id": "b2059623",
   "metadata": {},
   "outputs": [
    {
     "name": "stdout",
     "output_type": "stream",
     "text": [
      "Model saved successfully in models/lasso_model.pkl!\n"
     ]
    }
   ],
   "source": [
    "import os\n",
    "import joblib\n",
    "model_folder = 'models'\n",
    "model_path = os.path.join(model_folder, 'lasso_model.pkl')\n",
    "if not os.path.exists(model_folder):\n",
    "    os.makedirs(model_folder)\n",
    "joblib.dump(ls, model_path)\n",
    "print(f\"Model saved successfully in {model_path}!\")\n"
   ]
  },
  {
   "cell_type": "code",
   "execution_count": 77,
   "id": "2756a6c1",
   "metadata": {},
   "outputs": [],
   "source": [
    "mlflow.log_artifact(local_path=\"models/lasso_model.pkl\", artifact_path='model')"
   ]
  },
  {
   "cell_type": "code",
   "execution_count": 78,
   "id": "90d5f7a4",
   "metadata": {},
   "outputs": [],
   "source": [
    "# Save the models and DictVectorizer\n",
    "with open('models/lasso_model.pkl', 'wb') as f_out:\n",
    "    pickle.dump((dv, lr), f_out)"
   ]
  },
  {
   "cell_type": "markdown",
   "id": "bdcd6588",
   "metadata": {},
   "source": [
    " #Xgboost model"
   ]
  },
  {
   "cell_type": "code",
   "execution_count": 79,
   "id": "54341d1c",
   "metadata": {},
   "outputs": [],
   "source": [
    "import xgboost as xgb\n",
    "from hyperopt import hp, fmin, tpe, STATUS_OK, Trials\n"
   ]
  },
  {
   "cell_type": "code",
   "execution_count": 80,
   "id": "d3de602c",
   "metadata": {},
   "outputs": [],
   "source": [
    "import mlflow\n",
    "import xgboost as xgb\n",
    "from sklearn.metrics import mean_squared_error\n",
    "\n",
    "def objective(params):\n",
    "    with mlflow.start_run():\n",
    "        mlflow.set_tag(\"model\", \"xgboost\")\n",
    "        mlflow.log_params(params)\n",
    "        model = xgb.XGBRegressor(\n",
    "            n_estimators=int(params['n_estimators']),\n",
    "            max_depth=int(params['max_depth']),\n",
    "            learning_rate=params['learning_rate'],\n",
    "            subsample=params['subsample'],\n",
    "            gamma=params['gamma'],\n",
    "            colsample_bytree=params['colsample_bytree']\n",
    "        )\n",
    "        model.fit(X_train, y_train)\n",
    "        preds = model.predict(X_val)\n",
    "        rmse = mean_squared_error(y_val, preds, squared=False)\n",
    "        mlflow.log_metric(\"rmse\", rmse)\n",
    "    return {'loss': -rmse, 'status': STATUS_OK}\n"
   ]
  },
  {
   "cell_type": "code",
   "execution_count": 81,
   "id": "fd15befe",
   "metadata": {},
   "outputs": [],
   "source": [
    "space = {\n",
    "    'max_depth': hp.choice('max_depth', range(1, 3)),\n",
    "    'learning_rate': hp.uniform('learning_rate', 0.01, 0.02),\n",
    "    'n_estimators': hp.choice('n_estimators', range(100, 101)),\n",
    "    'subsample': hp.uniform('subsample', 0.7, 0.8),\n",
    "    'gamma': hp.uniform('gamma', 0.0, 0.1),\n",
    "    'colsample_bytree': hp.uniform('colsample_bytree', 0.3, 1.0),\n",
    "}\n"
   ]
  },
  {
   "cell_type": "code",
   "execution_count": 82,
   "id": "93ac83f7",
   "metadata": {},
   "outputs": [],
   "source": [
    "mlflow.end_run()"
   ]
  },
  {
   "cell_type": "code",
   "execution_count": 83,
   "id": "e600054c",
   "metadata": {},
   "outputs": [
    {
     "name": "stdout",
     "output_type": "stream",
     "text": [
      " 20%|██        | 1/5 [00:08<00:33,  8.28s/trial, best loss: -9.054027860453663]"
     ]
    },
    {
     "name": "stderr",
     "output_type": "stream",
     "text": [
      "/home/codespace/.local/lib/python3.10/site-packages/sklearn/metrics/_regression.py:492: FutureWarning: 'squared' is deprecated in version 1.4 and will be removed in 1.6. To calculate the root mean squared error, use the function'root_mean_squared_error'.\n",
      "  warnings.warn(\n",
      "\n"
     ]
    },
    {
     "name": "stdout",
     "output_type": "stream",
     "text": [
      " 40%|████      | 2/5 [00:16<00:24,  8.25s/trial, best loss: -9.141173531077797]"
     ]
    },
    {
     "name": "stderr",
     "output_type": "stream",
     "text": [
      "/home/codespace/.local/lib/python3.10/site-packages/sklearn/metrics/_regression.py:492: FutureWarning: 'squared' is deprecated in version 1.4 and will be removed in 1.6. To calculate the root mean squared error, use the function'root_mean_squared_error'.\n",
      "  warnings.warn(\n",
      "\n"
     ]
    },
    {
     "name": "stdout",
     "output_type": "stream",
     "text": [
      " 60%|██████    | 3/5 [00:22<00:14,  7.43s/trial, best loss: -9.783727250198924]"
     ]
    },
    {
     "name": "stderr",
     "output_type": "stream",
     "text": [
      "/home/codespace/.local/lib/python3.10/site-packages/sklearn/metrics/_regression.py:492: FutureWarning: 'squared' is deprecated in version 1.4 and will be removed in 1.6. To calculate the root mean squared error, use the function'root_mean_squared_error'.\n",
      "  warnings.warn(\n",
      "\n"
     ]
    },
    {
     "name": "stdout",
     "output_type": "stream",
     "text": [
      " 80%|████████  | 4/5 [00:31<00:07,  7.84s/trial, best loss: -9.783727250198924]"
     ]
    },
    {
     "name": "stderr",
     "output_type": "stream",
     "text": [
      "/home/codespace/.local/lib/python3.10/site-packages/sklearn/metrics/_regression.py:492: FutureWarning: 'squared' is deprecated in version 1.4 and will be removed in 1.6. To calculate the root mean squared error, use the function'root_mean_squared_error'.\n",
      "  warnings.warn(\n",
      "\n"
     ]
    },
    {
     "name": "stdout",
     "output_type": "stream",
     "text": [
      "100%|██████████| 5/5 [00:39<00:00,  7.89s/trial, best loss: -9.783727250198924]\n",
      "Best hyperparameters: {'colsample_bytree': 0.30250167658822336, 'gamma': 0.05751433712431652, 'learning_rate': 0.015099626762582682, 'max_depth': 0, 'n_estimators': 0, 'subsample': 0.7064508683090851}\n"
     ]
    },
    {
     "name": "stderr",
     "output_type": "stream",
     "text": [
      "/home/codespace/.local/lib/python3.10/site-packages/sklearn/metrics/_regression.py:492: FutureWarning: 'squared' is deprecated in version 1.4 and will be removed in 1.6. To calculate the root mean squared error, use the function'root_mean_squared_error'.\n",
      "  warnings.warn(\n",
      "\n"
     ]
    }
   ],
   "source": [
    "trials = Trials()\n",
    "best = fmin(fn=objective,\n",
    "            space=space,\n",
    "            algo=tpe.suggest,\n",
    "            max_evals=5,\n",
    "            trials=trials)\n",
    "print(\"Best hyperparameters:\", best)\n"
   ]
  },
  {
   "cell_type": "code",
   "execution_count": 84,
   "id": "1a12fe94",
   "metadata": {},
   "outputs": [],
   "source": [
    "## Trainin model with the best hyperparamters "
   ]
  },
  {
   "cell_type": "code",
   "execution_count": 85,
   "id": "e97f520b",
   "metadata": {},
   "outputs": [],
   "source": [
    "import xgboost as xgb\n",
    "\n",
    "# Preparing training and validation datasets\n",
    "train = xgb.DMatrix(X_train, label=y_train)\n",
    "valid = xgb.DMatrix(X_val, label=y_val)\n"
   ]
  },
  {
   "cell_type": "code",
   "execution_count": 86,
   "id": "722b9f82",
   "metadata": {},
   "outputs": [],
   "source": [
    "hyperparams ={'colsample_bytree':0.9320267530659203,\n",
    "            'gamma':0.0976458782129943,\n",
    "            'learning_rate':0.019905481508947585,\n",
    "            'max_depth':2,\n",
    "            'n_estimators':100,\n",
    "            'subsample':0.7513506613595762}"
   ]
  },
  {
   "cell_type": "code",
   "execution_count": 87,
   "id": "f15fffe8",
   "metadata": {},
   "outputs": [
    {
     "name": "stderr",
     "output_type": "stream",
     "text": [
      "/home/codespace/.python/current/lib/python3.10/site-packages/xgboost/core.py:158: UserWarning: [09:25:31] WARNING: /workspace/src/learner.cc:740: \n",
      "Parameters: { \"n_estimators\" } are not used.\n",
      "\n",
      "  warnings.warn(smsg, UserWarning)\n"
     ]
    },
    {
     "name": "stdout",
     "output_type": "stream",
     "text": [
      "[0]\tvalidation-rmse:10.05957\n",
      "[1]\tvalidation-rmse:10.02447\n",
      "[2]\tvalidation-rmse:10.01667\n",
      "[3]\tvalidation-rmse:9.98292\n",
      "[4]\tvalidation-rmse:9.97636\n",
      "[5]\tvalidation-rmse:9.96900\n",
      "[6]\tvalidation-rmse:9.96278\n",
      "[7]\tvalidation-rmse:9.95681\n",
      "[8]\tvalidation-rmse:9.95108\n",
      "[9]\tvalidation-rmse:9.91861\n",
      "[10]\tvalidation-rmse:9.91313\n",
      "[11]\tvalidation-rmse:9.88181\n",
      "[12]\tvalidation-rmse:9.87655\n",
      "[13]\tvalidation-rmse:9.87150\n",
      "[14]\tvalidation-rmse:9.86671\n",
      "[15]\tvalidation-rmse:9.83662\n",
      "[16]\tvalidation-rmse:9.80764\n",
      "[17]\tvalidation-rmse:9.80295\n",
      "[18]\tvalidation-rmse:9.77503\n",
      "[19]\tvalidation-rmse:9.74812\n",
      "[20]\tvalidation-rmse:9.74365\n",
      "[21]\tvalidation-rmse:9.71768\n",
      "[22]\tvalidation-rmse:9.69267\n",
      "[23]\tvalidation-rmse:9.66852\n",
      "[24]\tvalidation-rmse:9.66245\n",
      "[25]\tvalidation-rmse:9.65823\n",
      "[26]\tvalidation-rmse:9.63501\n",
      "[27]\tvalidation-rmse:9.63100\n",
      "[28]\tvalidation-rmse:9.62530\n",
      "[29]\tvalidation-rmse:9.60301\n",
      "[30]\tvalidation-rmse:9.58152\n",
      "[31]\tvalidation-rmse:9.56081\n",
      "[32]\tvalidation-rmse:9.54087\n",
      "[33]\tvalidation-rmse:9.52161\n",
      "[34]\tvalidation-rmse:9.50311\n",
      "[35]\tvalidation-rmse:9.49930\n",
      "[36]\tvalidation-rmse:9.49564\n",
      "[37]\tvalidation-rmse:9.47784\n",
      "[38]\tvalidation-rmse:9.47257\n",
      "[39]\tvalidation-rmse:9.46910\n",
      "[40]\tvalidation-rmse:9.46575\n",
      "[41]\tvalidation-rmse:9.46069\n",
      "[42]\tvalidation-rmse:9.44362\n",
      "[43]\tvalidation-rmse:9.44044\n",
      "[44]\tvalidation-rmse:9.42402\n",
      "[45]\tvalidation-rmse:9.42099\n",
      "[46]\tvalidation-rmse:9.41623\n",
      "[47]\tvalidation-rmse:9.40042\n",
      "[48]\tvalidation-rmse:9.39749\n",
      "[49]\tvalidation-rmse:9.38224\n"
     ]
    },
    {
     "name": "stderr",
     "output_type": "stream",
     "text": [
      "/home/codespace/.local/lib/python3.10/site-packages/sklearn/metrics/_regression.py:492: FutureWarning: 'squared' is deprecated in version 1.4 and will be removed in 1.6. To calculate the root mean squared error, use the function'root_mean_squared_error'.\n",
      "  warnings.warn(\n",
      "/home/codespace/.python/current/lib/python3.10/site-packages/xgboost/core.py:158: UserWarning: [09:25:39] WARNING: /workspace/src/c_api/c_api.cc:1374: Saving model in the UBJSON format as default.  You can use file extension: `json`, `ubj` or `deprecated` to choose between formats.\n",
      "  warnings.warn(smsg, UserWarning)\n",
      "/home/codespace/.python/current/lib/python3.10/site-packages/_distutils_hack/__init__.py:18: UserWarning: Distutils was imported before Setuptools, but importing Setuptools also replaces the `distutils` module in `sys.modules`. This may lead to undesirable behaviors or errors. To avoid these issues, avoid using distutils directly, ensure that setuptools is installed in the traditional way (e.g. not an editable install), and/or make sure that setuptools is always imported before distutils.\n",
      "  warnings.warn(\n",
      "/home/codespace/.python/current/lib/python3.10/site-packages/_distutils_hack/__init__.py:33: UserWarning: Setuptools is replacing distutils.\n",
      "  warnings.warn(\"Setuptools is replacing distutils.\")\n"
     ]
    }
   ],
   "source": [
    "\n",
    "\n",
    "with mlflow.start_run():\n",
    "    mlflow.set_tag(\"Developer\", \"Huseyn\")\n",
    "    mlflow.log_params(hyperparams)\n",
    "    booster=xgb.train(\n",
    "                params=hyperparams,\n",
    "                dtrain=train,\n",
    "                num_boost_round=50,\n",
    "                early_stopping_rounds=20,\n",
    "                evals=[(valid, \"validation\")])\n",
    "    y_pred=booster.predict(valid)\n",
    "    rmse = mean_squared_error(y_val, y_pred, squared=False)\n",
    "    mlflow.log_metric(\"rmse\", rmse)\n",
    "    with open(\"models/preprocessor.b\", \"wb\") as f_out:\n",
    "        pickle.dump(dv,f_out)\n",
    "    mlflow.log_artifact(\"models/preprocessor.b\", artifact_path=\"preprocessor\")\n",
    "    mlflow.xgboost.log_model(booster, artifact_path=\"models_mlflow\")\n",
    "   "
   ]
  },
  {
   "cell_type": "code",
   "execution_count": 88,
   "id": "c01b9d7a",
   "metadata": {},
   "outputs": [],
   "source": [
    "##Autolog mlfow "
   ]
  },
  {
   "cell_type": "code",
   "execution_count": 89,
   "id": "b350961c",
   "metadata": {},
   "outputs": [
    {
     "name": "stderr",
     "output_type": "stream",
     "text": [
      "2024/07/07 09:25:42 WARNING mlflow.utils.autologging_utils: You are using an unsupported version of xgboost. If you encounter errors during autologging, try upgrading / downgrading xgboost to a supported version, or try upgrading MLflow.\n"
     ]
    },
    {
     "name": "stderr",
     "output_type": "stream",
     "text": [
      "2024/07/07 09:25:42 INFO mlflow.utils.autologging_utils: Created MLflow autologging run with ID '3ba791e1ac744a76944a782f180031c3', which will track hyperparameters, performance metrics, model artifacts, and lineage information for the current xgboost workflow\n",
      "/home/codespace/.python/current/lib/python3.10/site-packages/xgboost/core.py:158: UserWarning: [09:25:42] WARNING: /workspace/src/learner.cc:740: \n",
      "Parameters: { \"n_estimators\" } are not used.\n",
      "\n",
      "  warnings.warn(smsg, UserWarning)\n"
     ]
    },
    {
     "name": "stdout",
     "output_type": "stream",
     "text": [
      "[0]\tvalidation-rmse:10.05957\n",
      "[1]\tvalidation-rmse:10.02447\n",
      "[2]\tvalidation-rmse:10.01667\n",
      "[3]\tvalidation-rmse:9.98292\n",
      "[4]\tvalidation-rmse:9.97636\n",
      "[5]\tvalidation-rmse:9.96900\n",
      "[6]\tvalidation-rmse:9.96278\n",
      "[7]\tvalidation-rmse:9.95681\n",
      "[8]\tvalidation-rmse:9.95108\n",
      "[9]\tvalidation-rmse:9.91861\n",
      "[10]\tvalidation-rmse:9.91313\n",
      "[11]\tvalidation-rmse:9.88181\n",
      "[12]\tvalidation-rmse:9.87655\n",
      "[13]\tvalidation-rmse:9.87150\n",
      "[14]\tvalidation-rmse:9.86671\n",
      "[15]\tvalidation-rmse:9.83662\n",
      "[16]\tvalidation-rmse:9.80764\n",
      "[17]\tvalidation-rmse:9.80295\n",
      "[18]\tvalidation-rmse:9.77503\n",
      "[19]\tvalidation-rmse:9.74812\n",
      "[20]\tvalidation-rmse:9.74365\n",
      "[21]\tvalidation-rmse:9.71768\n",
      "[22]\tvalidation-rmse:9.69267\n",
      "[23]\tvalidation-rmse:9.66852\n",
      "[24]\tvalidation-rmse:9.66245\n",
      "[25]\tvalidation-rmse:9.65823\n",
      "[26]\tvalidation-rmse:9.63501\n",
      "[27]\tvalidation-rmse:9.63100\n",
      "[28]\tvalidation-rmse:9.62530\n",
      "[29]\tvalidation-rmse:9.60301\n",
      "[30]\tvalidation-rmse:9.58152\n",
      "[31]\tvalidation-rmse:9.56081\n",
      "[32]\tvalidation-rmse:9.54087\n",
      "[33]\tvalidation-rmse:9.52161\n",
      "[34]\tvalidation-rmse:9.50311\n",
      "[35]\tvalidation-rmse:9.49930\n",
      "[36]\tvalidation-rmse:9.49564\n",
      "[37]\tvalidation-rmse:9.47784\n",
      "[38]\tvalidation-rmse:9.47257\n",
      "[39]\tvalidation-rmse:9.46910\n",
      "[40]\tvalidation-rmse:9.46575\n",
      "[41]\tvalidation-rmse:9.46069\n",
      "[42]\tvalidation-rmse:9.44362\n",
      "[43]\tvalidation-rmse:9.44044\n",
      "[44]\tvalidation-rmse:9.42402\n",
      "[45]\tvalidation-rmse:9.42099\n",
      "[46]\tvalidation-rmse:9.41623\n",
      "[47]\tvalidation-rmse:9.40042\n",
      "[48]\tvalidation-rmse:9.39749\n",
      "[49]\tvalidation-rmse:9.38224\n",
      "[50]\tvalidation-rmse:9.36760\n",
      "[51]\tvalidation-rmse:9.35353\n",
      "[52]\tvalidation-rmse:9.33992\n",
      "[53]\tvalidation-rmse:9.33713\n",
      "[54]\tvalidation-rmse:9.33274\n",
      "[55]\tvalidation-rmse:9.31970\n",
      "[56]\tvalidation-rmse:9.31707\n",
      "[57]\tvalidation-rmse:9.31455\n",
      "[58]\tvalidation-rmse:9.31034\n",
      "[59]\tvalidation-rmse:9.30787\n",
      "[60]\tvalidation-rmse:9.29542\n",
      "[61]\tvalidation-rmse:9.29140\n",
      "[62]\tvalidation-rmse:9.28906\n",
      "[63]\tvalidation-rmse:9.27704\n",
      "[64]\tvalidation-rmse:9.27482\n",
      "[65]\tvalidation-rmse:9.26326\n",
      "[66]\tvalidation-rmse:9.25214\n",
      "[67]\tvalidation-rmse:9.24999\n",
      "[68]\tvalidation-rmse:9.24622\n",
      "[69]\tvalidation-rmse:9.24415\n",
      "[70]\tvalidation-rmse:9.24218\n",
      "[71]\tvalidation-rmse:9.23859\n",
      "[72]\tvalidation-rmse:9.22775\n",
      "[73]\tvalidation-rmse:9.22584\n",
      "[74]\tvalidation-rmse:9.21561\n",
      "[75]\tvalidation-rmse:9.20570\n",
      "[76]\tvalidation-rmse:9.18882\n",
      "[77]\tvalidation-rmse:9.17253\n",
      "[78]\tvalidation-rmse:9.16333\n",
      "[79]\tvalidation-rmse:9.14786\n",
      "[80]\tvalidation-rmse:9.14635\n",
      "[81]\tvalidation-rmse:9.14490\n",
      "[82]\tvalidation-rmse:9.14350\n",
      "[83]\tvalidation-rmse:9.14185\n",
      "[84]\tvalidation-rmse:9.14029\n",
      "[85]\tvalidation-rmse:9.13874\n",
      "[86]\tvalidation-rmse:9.13022\n",
      "[87]\tvalidation-rmse:9.11559\n",
      "[88]\tvalidation-rmse:9.11413\n",
      "[89]\tvalidation-rmse:9.11091\n",
      "[90]\tvalidation-rmse:9.10951\n",
      "[91]\tvalidation-rmse:9.10816\n",
      "[92]\tvalidation-rmse:9.10509\n",
      "[93]\tvalidation-rmse:9.09107\n",
      "[94]\tvalidation-rmse:9.08319\n",
      "[95]\tvalidation-rmse:9.06982\n",
      "[96]\tvalidation-rmse:9.05692\n",
      "[97]\tvalidation-rmse:9.04985\n",
      "[98]\tvalidation-rmse:9.04879\n",
      "[99]\tvalidation-rmse:9.04778\n",
      "[100]\tvalidation-rmse:9.04681\n",
      "[101]\tvalidation-rmse:9.03455\n",
      "[102]\tvalidation-rmse:9.02275\n",
      "[103]\tvalidation-rmse:9.01614\n",
      "[104]\tvalidation-rmse:9.01522\n",
      "[105]\tvalidation-rmse:9.00398\n",
      "[106]\tvalidation-rmse:8.99315\n",
      "[107]\tvalidation-rmse:8.98720\n",
      "[108]\tvalidation-rmse:8.98633\n",
      "[109]\tvalidation-rmse:8.98547\n",
      "[110]\tvalidation-rmse:8.98466\n",
      "[111]\tvalidation-rmse:8.98385\n",
      "[112]\tvalidation-rmse:8.97356\n",
      "[113]\tvalidation-rmse:8.97281\n",
      "[114]\tvalidation-rmse:8.96726\n",
      "[115]\tvalidation-rmse:8.95747\n",
      "[116]\tvalidation-rmse:8.95674\n",
      "[117]\tvalidation-rmse:8.95602\n",
      "[118]\tvalidation-rmse:8.94655\n",
      "[119]\tvalidation-rmse:8.94133\n",
      "[120]\tvalidation-rmse:8.93233\n",
      "[121]\tvalidation-rmse:8.92742\n",
      "[122]\tvalidation-rmse:8.92654\n",
      "[123]\tvalidation-rmse:8.91798\n",
      "[124]\tvalidation-rmse:8.90971\n",
      "[125]\tvalidation-rmse:8.90530\n",
      "[126]\tvalidation-rmse:8.90465\n",
      "[127]\tvalidation-rmse:8.90403\n",
      "[128]\tvalidation-rmse:8.90348\n",
      "[129]\tvalidation-rmse:8.89562\n",
      "[130]\tvalidation-rmse:8.89487\n",
      "[131]\tvalidation-rmse:8.88731\n",
      "[132]\tvalidation-rmse:8.88311\n",
      "[133]\tvalidation-rmse:8.87904\n",
      "[134]\tvalidation-rmse:8.87193\n",
      "[135]\tvalidation-rmse:8.86509\n",
      "[136]\tvalidation-rmse:8.85850\n",
      "[137]\tvalidation-rmse:8.85496\n",
      "[138]\tvalidation-rmse:8.84871\n",
      "[139]\tvalidation-rmse:8.84820\n",
      "[140]\tvalidation-rmse:8.84763\n",
      "[141]\tvalidation-rmse:8.84419\n",
      "[142]\tvalidation-rmse:8.84371\n",
      "[143]\tvalidation-rmse:8.83772\n",
      "[144]\tvalidation-rmse:8.83718\n",
      "[145]\tvalidation-rmse:8.83393\n",
      "[146]\tvalidation-rmse:8.82821\n",
      "[147]\tvalidation-rmse:8.82775\n",
      "[148]\tvalidation-rmse:8.82731\n",
      "[149]\tvalidation-rmse:8.82663\n",
      "[150]\tvalidation-rmse:8.82613\n",
      "[151]\tvalidation-rmse:8.82062\n",
      "[152]\tvalidation-rmse:8.81759\n",
      "[153]\tvalidation-rmse:8.81236\n",
      "[154]\tvalidation-rmse:8.80962\n",
      "[155]\tvalidation-rmse:8.80925\n",
      "[156]\tvalidation-rmse:8.80877\n",
      "[157]\tvalidation-rmse:8.80812\n",
      "[158]\tvalidation-rmse:8.80772\n",
      "[159]\tvalidation-rmse:8.80273\n",
      "[160]\tvalidation-rmse:8.80227\n",
      "[161]\tvalidation-rmse:8.79953\n",
      "[162]\tvalidation-rmse:8.79475\n",
      "[163]\tvalidation-rmse:8.79017\n",
      "[164]\tvalidation-rmse:8.78984\n",
      "[165]\tvalidation-rmse:8.78735\n",
      "[166]\tvalidation-rmse:8.78297\n",
      "[167]\tvalidation-rmse:8.78265\n",
      "[168]\tvalidation-rmse:8.78022\n",
      "[169]\tvalidation-rmse:8.77602\n",
      "[170]\tvalidation-rmse:8.77378\n",
      "[171]\tvalidation-rmse:8.76977\n",
      "[172]\tvalidation-rmse:8.76593\n",
      "[173]\tvalidation-rmse:8.76501\n",
      "[174]\tvalidation-rmse:8.76294\n",
      "[175]\tvalidation-rmse:8.76206\n",
      "[176]\tvalidation-rmse:8.76175\n",
      "[177]\tvalidation-rmse:8.76141\n",
      "[178]\tvalidation-rmse:8.76011\n",
      "[179]\tvalidation-rmse:8.75953\n",
      "[180]\tvalidation-rmse:8.75828\n",
      "[181]\tvalidation-rmse:8.75463\n",
      "[182]\tvalidation-rmse:8.75408\n",
      "[183]\tvalidation-rmse:8.75325\n",
      "[184]\tvalidation-rmse:8.75207\n",
      "[185]\tvalidation-rmse:8.75178\n",
      "[186]\tvalidation-rmse:8.74918\n",
      "[187]\tvalidation-rmse:8.74725\n",
      "[188]\tvalidation-rmse:8.74673\n",
      "[189]\tvalidation-rmse:8.74324\n",
      "[190]\tvalidation-rmse:8.74297\n",
      "[191]\tvalidation-rmse:8.74218\n",
      "[192]\tvalidation-rmse:8.73965\n",
      "[193]\tvalidation-rmse:8.73938\n",
      "[194]\tvalidation-rmse:8.73826\n",
      "[195]\tvalidation-rmse:8.73776\n",
      "[196]\tvalidation-rmse:8.73443\n",
      "[197]\tvalidation-rmse:8.73335\n",
      "[198]\tvalidation-rmse:8.73261\n",
      "[199]\tvalidation-rmse:8.73182\n",
      "[200]\tvalidation-rmse:8.73003\n",
      "[201]\tvalidation-rmse:8.72927\n",
      "[202]\tvalidation-rmse:8.72901\n",
      "[203]\tvalidation-rmse:8.72581\n",
      "[204]\tvalidation-rmse:8.72339\n",
      "[205]\tvalidation-rmse:8.72272\n",
      "[206]\tvalidation-rmse:8.72248\n",
      "[207]\tvalidation-rmse:8.72079\n",
      "[208]\tvalidation-rmse:8.72033\n",
      "[209]\tvalidation-rmse:8.72009\n",
      "[210]\tvalidation-rmse:8.71704\n",
      "[211]\tvalidation-rmse:8.71682\n",
      "[212]\tvalidation-rmse:8.71638\n",
      "[213]\tvalidation-rmse:8.71537\n",
      "[214]\tvalidation-rmse:8.71473\n",
      "[215]\tvalidation-rmse:8.71241\n",
      "[216]\tvalidation-rmse:8.71197\n",
      "[217]\tvalidation-rmse:8.71129\n",
      "[218]\tvalidation-rmse:8.70906\n",
      "[219]\tvalidation-rmse:8.70847\n",
      "[220]\tvalidation-rmse:8.70750\n",
      "[221]\tvalidation-rmse:8.70459\n",
      "[222]\tvalidation-rmse:8.70403\n",
      "[223]\tvalidation-rmse:8.70189\n",
      "[224]\tvalidation-rmse:8.70032\n",
      "[225]\tvalidation-rmse:8.69753\n",
      "[226]\tvalidation-rmse:8.69690\n",
      "[227]\tvalidation-rmse:8.69629\n",
      "[228]\tvalidation-rmse:8.69358\n",
      "[229]\tvalidation-rmse:8.69212\n",
      "[230]\tvalidation-rmse:8.69150\n",
      "[231]\tvalidation-rmse:8.69128\n",
      "[232]\tvalidation-rmse:8.68986\n",
      "[233]\tvalidation-rmse:8.68733\n",
      "[234]\tvalidation-rmse:8.68673\n",
      "[235]\tvalidation-rmse:8.68623\n",
      "[236]\tvalidation-rmse:8.68491\n",
      "[237]\tvalidation-rmse:8.68247\n",
      "[238]\tvalidation-rmse:8.68226\n",
      "[239]\tvalidation-rmse:8.68206\n",
      "[240]\tvalidation-rmse:8.68186\n",
      "[241]\tvalidation-rmse:8.68098\n",
      "[242]\tvalidation-rmse:8.68057\n",
      "[243]\tvalidation-rmse:8.68000\n",
      "[244]\tvalidation-rmse:8.67946\n",
      "[245]\tvalidation-rmse:8.67738\n",
      "[246]\tvalidation-rmse:8.67503\n",
      "[247]\tvalidation-rmse:8.67457\n",
      "[248]\tvalidation-rmse:8.67439\n",
      "[249]\tvalidation-rmse:8.67315\n",
      "[250]\tvalidation-rmse:8.67091\n",
      "[251]\tvalidation-rmse:8.67073\n",
      "[252]\tvalidation-rmse:8.66955\n",
      "[253]\tvalidation-rmse:8.66903\n",
      "[254]\tvalidation-rmse:8.66853\n",
      "[255]\tvalidation-rmse:8.66810\n",
      "[256]\tvalidation-rmse:8.66772\n",
      "[257]\tvalidation-rmse:8.66659\n",
      "[258]\tvalidation-rmse:8.66642\n",
      "[259]\tvalidation-rmse:8.66596\n",
      "[260]\tvalidation-rmse:8.66384\n",
      "[261]\tvalidation-rmse:8.66270\n",
      "[262]\tvalidation-rmse:8.66066\n",
      "[263]\tvalidation-rmse:8.66021\n",
      "[264]\tvalidation-rmse:8.65984\n",
      "[265]\tvalidation-rmse:8.65786\n",
      "[266]\tvalidation-rmse:8.65743\n",
      "[267]\tvalidation-rmse:8.65635\n",
      "[268]\tvalidation-rmse:8.65437\n",
      "[269]\tvalidation-rmse:8.65329\n",
      "[270]\tvalidation-rmse:8.65288\n",
      "[271]\tvalidation-rmse:8.65271\n",
      "[272]\tvalidation-rmse:8.65233\n",
      "[273]\tvalidation-rmse:8.65217\n",
      "[274]\tvalidation-rmse:8.65181\n",
      "[275]\tvalidation-rmse:8.65052\n",
      "[276]\tvalidation-rmse:8.65002\n",
      "[277]\tvalidation-rmse:8.64900\n",
      "[278]\tvalidation-rmse:8.64709\n",
      "[279]\tvalidation-rmse:8.64522\n",
      "[280]\tvalidation-rmse:8.64488\n",
      "[281]\tvalidation-rmse:8.64474\n",
      "[282]\tvalidation-rmse:8.64350\n",
      "[283]\tvalidation-rmse:8.64167\n",
      "[284]\tvalidation-rmse:8.63521\n",
      "[285]\tvalidation-rmse:8.62893\n",
      "[286]\tvalidation-rmse:8.62708\n",
      "[287]\tvalidation-rmse:8.62660\n",
      "[288]\tvalidation-rmse:8.62622\n",
      "[289]\tvalidation-rmse:8.62608\n",
      "[290]\tvalidation-rmse:8.62512\n",
      "[291]\tvalidation-rmse:8.62476\n",
      "[292]\tvalidation-rmse:8.62398\n",
      "[293]\tvalidation-rmse:8.62368\n",
      "[294]\tvalidation-rmse:8.62337\n",
      "[295]\tvalidation-rmse:8.62161\n",
      "[296]\tvalidation-rmse:8.62057\n",
      "[297]\tvalidation-rmse:8.61966\n",
      "[298]\tvalidation-rmse:8.61951\n",
      "[299]\tvalidation-rmse:8.61774\n",
      "[300]\tvalidation-rmse:8.61602\n",
      "[301]\tvalidation-rmse:8.61570\n",
      "[302]\tvalidation-rmse:8.61453\n",
      "[303]\tvalidation-rmse:8.61424\n",
      "[304]\tvalidation-rmse:8.60825\n",
      "[305]\tvalidation-rmse:8.60795\n",
      "[306]\tvalidation-rmse:8.60722\n",
      "[307]\tvalidation-rmse:8.60625\n",
      "[308]\tvalidation-rmse:8.60595\n",
      "[309]\tvalidation-rmse:8.60428\n",
      "[310]\tvalidation-rmse:8.60315\n",
      "[311]\tvalidation-rmse:8.60282\n",
      "[312]\tvalidation-rmse:8.60196\n",
      "[313]\tvalidation-rmse:8.59623\n",
      "[314]\tvalidation-rmse:8.59610\n",
      "[315]\tvalidation-rmse:8.59448\n",
      "[316]\tvalidation-rmse:8.59414\n",
      "[317]\tvalidation-rmse:8.59257\n",
      "[318]\tvalidation-rmse:8.59225\n",
      "[319]\tvalidation-rmse:8.59145\n",
      "[320]\tvalidation-rmse:8.59102\n",
      "[321]\tvalidation-rmse:8.59074\n",
      "[322]\tvalidation-rmse:8.59043\n",
      "[323]\tvalidation-rmse:8.58893\n",
      "[324]\tvalidation-rmse:8.58868\n",
      "[325]\tvalidation-rmse:8.58791\n",
      "[326]\tvalidation-rmse:8.58629\n",
      "[327]\tvalidation-rmse:8.58599\n",
      "[328]\tvalidation-rmse:8.58568\n",
      "[329]\tvalidation-rmse:8.58544\n",
      "[330]\tvalidation-rmse:8.58402\n",
      "[331]\tvalidation-rmse:8.58375\n",
      "[332]\tvalidation-rmse:8.58352\n",
      "[333]\tvalidation-rmse:8.58340\n",
      "[334]\tvalidation-rmse:8.58268\n",
      "[335]\tvalidation-rmse:8.58256\n",
      "[336]\tvalidation-rmse:8.58150\n",
      "[337]\tvalidation-rmse:8.58011\n",
      "[338]\tvalidation-rmse:8.57460\n",
      "[339]\tvalidation-rmse:8.57305\n",
      "[340]\tvalidation-rmse:8.57282\n",
      "[341]\tvalidation-rmse:8.57189\n",
      "[342]\tvalidation-rmse:8.57126\n",
      "[343]\tvalidation-rmse:8.57114\n",
      "[344]\tvalidation-rmse:8.57010\n",
      "[345]\tvalidation-rmse:8.56984\n",
      "[346]\tvalidation-rmse:8.56454\n",
      "[347]\tvalidation-rmse:8.56392\n",
      "[348]\tvalidation-rmse:8.56365\n",
      "[349]\tvalidation-rmse:8.56341\n",
      "[350]\tvalidation-rmse:8.56210\n",
      "[351]\tvalidation-rmse:8.56186\n",
      "[352]\tvalidation-rmse:8.56097\n",
      "[353]\tvalidation-rmse:8.56086\n",
      "[354]\tvalidation-rmse:8.56062\n",
      "[355]\tvalidation-rmse:8.56004\n",
      "[356]\tvalidation-rmse:8.55906\n",
      "[357]\tvalidation-rmse:8.55759\n",
      "[358]\tvalidation-rmse:8.55243\n",
      "[359]\tvalidation-rmse:8.55218\n",
      "[360]\tvalidation-rmse:8.55094\n",
      "[361]\tvalidation-rmse:8.55084\n",
      "[362]\tvalidation-rmse:8.55063\n",
      "[363]\tvalidation-rmse:8.54967\n",
      "[364]\tvalidation-rmse:8.54906\n",
      "[365]\tvalidation-rmse:8.54419\n",
      "[366]\tvalidation-rmse:8.54399\n",
      "[367]\tvalidation-rmse:8.54374\n",
      "[368]\tvalidation-rmse:8.54289\n",
      "[369]\tvalidation-rmse:8.54171\n",
      "[370]\tvalidation-rmse:8.54152\n",
      "[371]\tvalidation-rmse:8.54094\n",
      "[372]\tvalidation-rmse:8.54001\n",
      "[373]\tvalidation-rmse:8.53991\n",
      "[374]\tvalidation-rmse:8.53954\n",
      "[375]\tvalidation-rmse:8.53481\n",
      "[376]\tvalidation-rmse:8.53459\n",
      "[377]\tvalidation-rmse:8.53319\n",
      "[378]\tvalidation-rmse:8.53269\n",
      "[379]\tvalidation-rmse:8.53241\n",
      "[380]\tvalidation-rmse:8.53217\n",
      "[381]\tvalidation-rmse:8.53189\n",
      "[382]\tvalidation-rmse:8.52734\n",
      "[383]\tvalidation-rmse:8.52599\n",
      "[384]\tvalidation-rmse:8.52464\n",
      "[385]\tvalidation-rmse:8.52413\n",
      "[386]\tvalidation-rmse:8.52284\n",
      "[387]\tvalidation-rmse:8.52237\n",
      "[388]\tvalidation-rmse:8.52144\n",
      "[389]\tvalidation-rmse:8.52126\n",
      "[390]\tvalidation-rmse:8.52013\n",
      "[391]\tvalidation-rmse:8.51951\n",
      "[392]\tvalidation-rmse:8.51843\n",
      "[393]\tvalidation-rmse:8.51790\n",
      "[394]\tvalidation-rmse:8.51684\n",
      "[395]\tvalidation-rmse:8.51598\n",
      "[396]\tvalidation-rmse:8.51513\n",
      "[397]\tvalidation-rmse:8.51388\n",
      "[398]\tvalidation-rmse:8.51341\n",
      "[399]\tvalidation-rmse:8.50901\n",
      "[400]\tvalidation-rmse:8.50781\n",
      "[401]\tvalidation-rmse:8.50771\n",
      "[402]\tvalidation-rmse:8.50656\n",
      "[403]\tvalidation-rmse:8.50634\n",
      "[404]\tvalidation-rmse:8.50615\n",
      "[405]\tvalidation-rmse:8.50606\n",
      "[406]\tvalidation-rmse:8.50506\n",
      "[407]\tvalidation-rmse:8.50467\n",
      "[408]\tvalidation-rmse:8.50446\n",
      "[409]\tvalidation-rmse:8.50402\n",
      "[410]\tvalidation-rmse:8.50292\n",
      "[411]\tvalidation-rmse:8.50249\n",
      "[412]\tvalidation-rmse:8.50154\n",
      "[413]\tvalidation-rmse:8.50143\n",
      "[414]\tvalidation-rmse:8.50123\n",
      "[415]\tvalidation-rmse:8.50018\n",
      "[416]\tvalidation-rmse:8.49909\n",
      "[417]\tvalidation-rmse:8.49779\n",
      "[418]\tvalidation-rmse:8.49723\n",
      "[419]\tvalidation-rmse:8.49677\n",
      "[420]\tvalidation-rmse:8.49655\n",
      "[421]\tvalidation-rmse:8.49645\n",
      "[422]\tvalidation-rmse:8.49636\n",
      "[423]\tvalidation-rmse:8.49534\n",
      "[424]\tvalidation-rmse:8.49511\n",
      "[425]\tvalidation-rmse:8.49469\n",
      "[426]\tvalidation-rmse:8.49368\n",
      "[427]\tvalidation-rmse:8.49275\n",
      "[428]\tvalidation-rmse:8.48850\n",
      "[429]\tvalidation-rmse:8.48814\n",
      "[430]\tvalidation-rmse:8.48714\n",
      "[431]\tvalidation-rmse:8.48689\n",
      "[432]\tvalidation-rmse:8.48654\n",
      "[433]\tvalidation-rmse:8.48565\n",
      "[434]\tvalidation-rmse:8.48544\n",
      "[435]\tvalidation-rmse:8.48499\n",
      "[436]\tvalidation-rmse:8.48093\n",
      "[437]\tvalidation-rmse:8.48040\n",
      "[438]\tvalidation-rmse:8.47915\n",
      "[439]\tvalidation-rmse:8.47878\n",
      "[440]\tvalidation-rmse:8.47869\n",
      "[441]\tvalidation-rmse:8.47837\n",
      "[442]\tvalidation-rmse:8.47739\n",
      "[443]\tvalidation-rmse:8.47688\n",
      "[444]\tvalidation-rmse:8.47595\n",
      "[445]\tvalidation-rmse:8.47502\n",
      "[446]\tvalidation-rmse:8.47487\n",
      "[447]\tvalidation-rmse:8.47441\n",
      "[448]\tvalidation-rmse:8.47433\n",
      "[449]\tvalidation-rmse:8.47358\n",
      "[450]\tvalidation-rmse:8.46966\n",
      "[451]\tvalidation-rmse:8.46927\n",
      "[452]\tvalidation-rmse:8.46878\n",
      "[453]\tvalidation-rmse:8.46799\n",
      "[454]\tvalidation-rmse:8.46714\n",
      "[455]\tvalidation-rmse:8.46625\n",
      "[456]\tvalidation-rmse:8.46252\n",
      "[457]\tvalidation-rmse:8.46232\n",
      "[458]\tvalidation-rmse:8.46199\n",
      "[459]\tvalidation-rmse:8.46081\n",
      "[460]\tvalidation-rmse:8.46043\n",
      "[461]\tvalidation-rmse:8.45958\n",
      "[462]\tvalidation-rmse:8.45914\n",
      "[463]\tvalidation-rmse:8.45873\n",
      "[464]\tvalidation-rmse:8.45822\n",
      "[465]\tvalidation-rmse:8.45731\n",
      "[466]\tvalidation-rmse:8.45714\n",
      "[467]\tvalidation-rmse:8.45598\n",
      "[468]\tvalidation-rmse:8.45518\n",
      "[469]\tvalidation-rmse:8.45440\n",
      "[470]\tvalidation-rmse:8.45077\n",
      "[471]\tvalidation-rmse:8.45028\n",
      "[472]\tvalidation-rmse:8.45022\n",
      "[473]\tvalidation-rmse:8.44954\n",
      "[474]\tvalidation-rmse:8.44882\n",
      "[475]\tvalidation-rmse:8.44864\n",
      "[476]\tvalidation-rmse:8.44777\n",
      "[477]\tvalidation-rmse:8.44429\n",
      "[478]\tvalidation-rmse:8.44347\n",
      "[479]\tvalidation-rmse:8.44306\n",
      "[480]\tvalidation-rmse:8.44291\n",
      "[481]\tvalidation-rmse:8.44211\n",
      "[482]\tvalidation-rmse:8.44206\n",
      "[483]\tvalidation-rmse:8.44192\n",
      "[484]\tvalidation-rmse:8.44110\n",
      "[485]\tvalidation-rmse:8.44102\n",
      "[486]\tvalidation-rmse:8.44059\n",
      "[487]\tvalidation-rmse:8.43725\n",
      "[488]\tvalidation-rmse:8.43616\n",
      "[489]\tvalidation-rmse:8.43574\n",
      "[490]\tvalidation-rmse:8.43557\n",
      "[491]\tvalidation-rmse:8.43479\n",
      "[492]\tvalidation-rmse:8.43445\n",
      "[493]\tvalidation-rmse:8.43340\n",
      "[494]\tvalidation-rmse:8.43308\n",
      "[495]\tvalidation-rmse:8.43261\n",
      "[496]\tvalidation-rmse:8.43184\n",
      "[497]\tvalidation-rmse:8.43106\n",
      "[498]\tvalidation-rmse:8.43044\n",
      "[499]\tvalidation-rmse:8.43040\n",
      "[500]\tvalidation-rmse:8.42965\n",
      "[501]\tvalidation-rmse:8.42891\n",
      "[502]\tvalidation-rmse:8.42859\n",
      "[503]\tvalidation-rmse:8.42561\n",
      "[504]\tvalidation-rmse:8.42521\n",
      "[505]\tvalidation-rmse:8.42481\n",
      "[506]\tvalidation-rmse:8.42442\n",
      "[507]\tvalidation-rmse:8.42368\n",
      "[508]\tvalidation-rmse:8.42296\n",
      "[509]\tvalidation-rmse:8.42226\n",
      "[510]\tvalidation-rmse:8.42219\n",
      "[511]\tvalidation-rmse:8.42144\n",
      "[512]\tvalidation-rmse:8.42127\n",
      "[513]\tvalidation-rmse:8.42058\n",
      "[514]\tvalidation-rmse:8.42017\n",
      "[515]\tvalidation-rmse:8.41948\n",
      "[516]\tvalidation-rmse:8.41878\n",
      "[517]\tvalidation-rmse:8.41811\n",
      "[518]\tvalidation-rmse:8.41495\n",
      "[519]\tvalidation-rmse:8.41482\n",
      "[520]\tvalidation-rmse:8.41451\n",
      "[521]\tvalidation-rmse:8.41413\n",
      "[522]\tvalidation-rmse:8.41397\n",
      "[523]\tvalidation-rmse:8.41370\n",
      "[524]\tvalidation-rmse:8.41307\n",
      "[525]\tvalidation-rmse:8.41269\n",
      "[526]\tvalidation-rmse:8.41245\n",
      "[527]\tvalidation-rmse:8.41208\n",
      "[528]\tvalidation-rmse:8.41109\n",
      "[529]\tvalidation-rmse:8.40808\n",
      "[530]\tvalidation-rmse:8.40518\n",
      "[531]\tvalidation-rmse:8.40447\n",
      "[532]\tvalidation-rmse:8.40416\n",
      "[533]\tvalidation-rmse:8.40355\n",
      "[534]\tvalidation-rmse:8.40315\n",
      "[535]\tvalidation-rmse:8.40279\n",
      "[536]\tvalidation-rmse:8.40236\n",
      "[537]\tvalidation-rmse:8.40214\n",
      "[538]\tvalidation-rmse:8.40197\n",
      "[539]\tvalidation-rmse:8.40170\n",
      "[540]\tvalidation-rmse:8.40158\n",
      "[541]\tvalidation-rmse:8.40155\n",
      "[542]\tvalidation-rmse:8.40151\n",
      "[543]\tvalidation-rmse:8.40141\n",
      "[544]\tvalidation-rmse:8.40082\n",
      "[545]\tvalidation-rmse:8.40015\n",
      "[546]\tvalidation-rmse:8.39949\n",
      "[547]\tvalidation-rmse:8.39885\n",
      "[548]\tvalidation-rmse:8.39847\n",
      "[549]\tvalidation-rmse:8.39820\n",
      "[550]\tvalidation-rmse:8.39764\n",
      "[551]\tvalidation-rmse:8.39727\n",
      "[552]\tvalidation-rmse:8.39703\n",
      "[553]\tvalidation-rmse:8.39607\n",
      "[554]\tvalidation-rmse:8.39604\n",
      "[555]\tvalidation-rmse:8.39570\n",
      "[556]\tvalidation-rmse:8.39506\n",
      "[557]\tvalidation-rmse:8.39477\n",
      "[558]\tvalidation-rmse:8.39422\n",
      "[559]\tvalidation-rmse:8.39389\n",
      "[560]\tvalidation-rmse:8.39335\n",
      "[561]\tvalidation-rmse:8.39333\n",
      "[562]\tvalidation-rmse:8.39272\n",
      "[563]\tvalidation-rmse:8.39232\n",
      "[564]\tvalidation-rmse:8.39227\n",
      "[565]\tvalidation-rmse:8.39176\n",
      "[566]\tvalidation-rmse:8.39165\n",
      "[567]\tvalidation-rmse:8.39130\n",
      "[568]\tvalidation-rmse:8.39116\n",
      "[569]\tvalidation-rmse:8.39073\n",
      "[570]\tvalidation-rmse:8.38794\n",
      "[571]\tvalidation-rmse:8.38762\n",
      "[572]\tvalidation-rmse:8.38699\n",
      "[573]\tvalidation-rmse:8.38663\n",
      "[574]\tvalidation-rmse:8.38622\n",
      "[575]\tvalidation-rmse:8.38531\n",
      "[576]\tvalidation-rmse:8.38472\n",
      "[577]\tvalidation-rmse:8.38452\n",
      "[578]\tvalidation-rmse:8.38415\n",
      "[579]\tvalidation-rmse:8.38413\n",
      "[580]\tvalidation-rmse:8.38410\n",
      "[581]\tvalidation-rmse:8.38372\n",
      "[582]\tvalidation-rmse:8.38310\n",
      "[583]\tvalidation-rmse:8.38309\n",
      "[584]\tvalidation-rmse:8.38258\n",
      "[585]\tvalidation-rmse:8.38237\n",
      "[586]\tvalidation-rmse:8.38211\n",
      "[587]\tvalidation-rmse:8.38117\n",
      "[588]\tvalidation-rmse:8.37853\n",
      "[589]\tvalidation-rmse:8.37852\n",
      "[590]\tvalidation-rmse:8.37842\n",
      "[591]\tvalidation-rmse:8.37820\n",
      "[592]\tvalidation-rmse:8.37770\n",
      "[593]\tvalidation-rmse:8.37714\n",
      "[594]\tvalidation-rmse:8.37651\n",
      "[595]\tvalidation-rmse:8.37592\n",
      "[596]\tvalidation-rmse:8.37589\n",
      "[597]\tvalidation-rmse:8.37559\n",
      "[598]\tvalidation-rmse:8.37506\n",
      "[599]\tvalidation-rmse:8.37248\n",
      "[600]\tvalidation-rmse:8.37213\n",
      "[601]\tvalidation-rmse:8.37162\n",
      "[602]\tvalidation-rmse:8.37114\n",
      "[603]\tvalidation-rmse:8.37113\n",
      "[604]\tvalidation-rmse:8.37025\n",
      "[605]\tvalidation-rmse:8.36979\n",
      "[606]\tvalidation-rmse:8.36976\n",
      "[607]\tvalidation-rmse:8.36932\n",
      "[608]\tvalidation-rmse:8.36899\n",
      "[609]\tvalidation-rmse:8.36867\n",
      "[610]\tvalidation-rmse:8.36839\n",
      "[611]\tvalidation-rmse:8.36806\n",
      "[612]\tvalidation-rmse:8.36792\n",
      "[613]\tvalidation-rmse:8.36734\n",
      "[614]\tvalidation-rmse:8.36644\n",
      "[615]\tvalidation-rmse:8.36561\n",
      "[616]\tvalidation-rmse:8.36331\n",
      "[617]\tvalidation-rmse:8.36313\n",
      "[618]\tvalidation-rmse:8.36271\n",
      "[619]\tvalidation-rmse:8.36216\n",
      "[620]\tvalidation-rmse:8.36213\n",
      "[621]\tvalidation-rmse:8.36206\n",
      "[622]\tvalidation-rmse:8.36176\n",
      "[623]\tvalidation-rmse:8.36134\n",
      "[624]\tvalidation-rmse:8.36132\n",
      "[625]\tvalidation-rmse:8.36095\n",
      "[626]\tvalidation-rmse:8.36095\n",
      "[627]\tvalidation-rmse:8.36078\n",
      "[628]\tvalidation-rmse:8.36020\n",
      "[629]\tvalidation-rmse:8.35984\n",
      "[630]\tvalidation-rmse:8.35982\n",
      "[631]\tvalidation-rmse:8.35896\n",
      "[632]\tvalidation-rmse:8.35839\n",
      "[633]\tvalidation-rmse:8.35840\n",
      "[634]\tvalidation-rmse:8.35826\n",
      "[635]\tvalidation-rmse:8.35773\n",
      "[636]\tvalidation-rmse:8.35742\n",
      "[637]\tvalidation-rmse:8.35713\n",
      "[638]\tvalidation-rmse:8.35696\n",
      "[639]\tvalidation-rmse:8.35687\n",
      "[640]\tvalidation-rmse:8.35647\n",
      "[641]\tvalidation-rmse:8.35598\n",
      "[642]\tvalidation-rmse:8.35595\n",
      "[643]\tvalidation-rmse:8.35577\n",
      "[644]\tvalidation-rmse:8.35577\n",
      "[645]\tvalidation-rmse:8.35549\n",
      "[646]\tvalidation-rmse:8.35467\n",
      "[647]\tvalidation-rmse:8.35452\n",
      "[648]\tvalidation-rmse:8.35434\n",
      "[649]\tvalidation-rmse:8.35196\n",
      "[650]\tvalidation-rmse:8.35194\n",
      "[651]\tvalidation-rmse:8.35143\n",
      "[652]\tvalidation-rmse:8.35114\n",
      "[653]\tvalidation-rmse:8.35091\n",
      "[654]\tvalidation-rmse:8.35073\n",
      "[655]\tvalidation-rmse:8.35073\n",
      "[656]\tvalidation-rmse:8.35026\n",
      "[657]\tvalidation-rmse:8.34991\n",
      "[658]\tvalidation-rmse:8.34990\n",
      "[659]\tvalidation-rmse:8.34910\n",
      "[660]\tvalidation-rmse:8.34884\n",
      "[661]\tvalidation-rmse:8.34854\n",
      "[662]\tvalidation-rmse:8.34808\n",
      "[663]\tvalidation-rmse:8.34764\n",
      "[664]\tvalidation-rmse:8.34762\n",
      "[665]\tvalidation-rmse:8.34763\n",
      "[666]\tvalidation-rmse:8.34532\n",
      "[667]\tvalidation-rmse:8.34504\n",
      "[668]\tvalidation-rmse:8.34466\n",
      "[669]\tvalidation-rmse:8.34464\n",
      "[670]\tvalidation-rmse:8.34462\n",
      "[671]\tvalidation-rmse:8.34453\n",
      "[672]\tvalidation-rmse:8.34454\n",
      "[673]\tvalidation-rmse:8.34418\n",
      "[674]\tvalidation-rmse:8.34393\n",
      "[675]\tvalidation-rmse:8.34357\n",
      "[676]\tvalidation-rmse:8.34324\n",
      "[677]\tvalidation-rmse:8.34309\n",
      "[678]\tvalidation-rmse:8.34086\n",
      "[679]\tvalidation-rmse:8.34087\n",
      "[680]\tvalidation-rmse:8.34062\n",
      "[681]\tvalidation-rmse:8.34038\n",
      "[682]\tvalidation-rmse:8.33984\n",
      "[683]\tvalidation-rmse:8.33986\n",
      "[684]\tvalidation-rmse:8.33908\n",
      "[685]\tvalidation-rmse:8.33906\n",
      "[686]\tvalidation-rmse:8.33858\n",
      "[687]\tvalidation-rmse:8.33836\n",
      "[688]\tvalidation-rmse:8.33814\n",
      "[689]\tvalidation-rmse:8.33815\n",
      "[690]\tvalidation-rmse:8.33801\n",
      "[691]\tvalidation-rmse:8.33758\n",
      "[692]\tvalidation-rmse:8.33760\n",
      "[693]\tvalidation-rmse:8.33739\n",
      "[694]\tvalidation-rmse:8.33712\n",
      "[695]\tvalidation-rmse:8.33691\n",
      "[696]\tvalidation-rmse:8.33691\n",
      "[697]\tvalidation-rmse:8.33669\n",
      "[698]\tvalidation-rmse:8.33655\n",
      "[699]\tvalidation-rmse:8.33628\n",
      "[700]\tvalidation-rmse:8.33627\n",
      "[701]\tvalidation-rmse:8.33628\n",
      "[702]\tvalidation-rmse:8.33596\n",
      "[703]\tvalidation-rmse:8.33563\n",
      "[704]\tvalidation-rmse:8.33516\n",
      "[705]\tvalidation-rmse:8.33519\n",
      "[706]\tvalidation-rmse:8.33505\n",
      "[707]\tvalidation-rmse:8.33479\n",
      "[708]\tvalidation-rmse:8.33446\n",
      "[709]\tvalidation-rmse:8.33426\n",
      "[710]\tvalidation-rmse:8.33399\n",
      "[711]\tvalidation-rmse:8.33356\n",
      "[712]\tvalidation-rmse:8.33332\n",
      "[713]\tvalidation-rmse:8.33302\n",
      "[714]\tvalidation-rmse:8.33304\n",
      "[715]\tvalidation-rmse:8.33285\n",
      "[716]\tvalidation-rmse:8.33210\n",
      "[717]\tvalidation-rmse:8.33191\n",
      "[718]\tvalidation-rmse:8.33183\n",
      "[719]\tvalidation-rmse:8.33152\n",
      "[720]\tvalidation-rmse:8.33077\n",
      "[721]\tvalidation-rmse:8.33079\n",
      "[722]\tvalidation-rmse:8.33053\n",
      "[723]\tvalidation-rmse:8.33035\n",
      "[724]\tvalidation-rmse:8.33019\n",
      "[725]\tvalidation-rmse:8.32991\n",
      "[726]\tvalidation-rmse:8.32918\n",
      "[727]\tvalidation-rmse:8.32902\n",
      "[728]\tvalidation-rmse:8.32881\n",
      "[729]\tvalidation-rmse:8.32852\n",
      "[730]\tvalidation-rmse:8.32835\n",
      "[731]\tvalidation-rmse:8.32808\n",
      "[732]\tvalidation-rmse:8.32758\n",
      "[733]\tvalidation-rmse:8.32756\n",
      "[734]\tvalidation-rmse:8.32715\n",
      "[735]\tvalidation-rmse:8.32718\n",
      "[736]\tvalidation-rmse:8.32503\n",
      "[737]\tvalidation-rmse:8.32502\n",
      "[738]\tvalidation-rmse:8.32461\n",
      "[739]\tvalidation-rmse:8.32444\n",
      "[740]\tvalidation-rmse:8.32422\n",
      "[741]\tvalidation-rmse:8.32404\n",
      "[742]\tvalidation-rmse:8.32390\n",
      "[743]\tvalidation-rmse:8.32343\n",
      "[744]\tvalidation-rmse:8.32345\n",
      "[745]\tvalidation-rmse:8.32300\n",
      "[746]\tvalidation-rmse:8.32269\n",
      "[747]\tvalidation-rmse:8.32257\n",
      "[748]\tvalidation-rmse:8.32235\n",
      "[749]\tvalidation-rmse:8.32220\n",
      "[750]\tvalidation-rmse:8.32014\n",
      "[751]\tvalidation-rmse:8.32017\n",
      "[752]\tvalidation-rmse:8.32001\n",
      "[753]\tvalidation-rmse:8.31962\n",
      "[754]\tvalidation-rmse:8.31939\n",
      "[755]\tvalidation-rmse:8.31890\n",
      "[756]\tvalidation-rmse:8.31878\n",
      "[757]\tvalidation-rmse:8.31854\n",
      "[758]\tvalidation-rmse:8.31785\n",
      "[759]\tvalidation-rmse:8.31789\n",
      "[760]\tvalidation-rmse:8.31717\n",
      "[761]\tvalidation-rmse:8.31680\n",
      "[762]\tvalidation-rmse:8.31652\n",
      "[763]\tvalidation-rmse:8.31454\n",
      "[764]\tvalidation-rmse:8.31438\n",
      "[765]\tvalidation-rmse:8.31417\n",
      "[766]\tvalidation-rmse:8.31388\n",
      "[767]\tvalidation-rmse:8.31391\n",
      "[768]\tvalidation-rmse:8.31322\n",
      "[769]\tvalidation-rmse:8.31294\n",
      "[770]\tvalidation-rmse:8.31251\n",
      "[771]\tvalidation-rmse:8.31253\n",
      "[772]\tvalidation-rmse:8.31240\n",
      "[773]\tvalidation-rmse:8.31216\n",
      "[774]\tvalidation-rmse:8.31202\n",
      "[775]\tvalidation-rmse:8.31168\n",
      "[776]\tvalidation-rmse:8.31153\n",
      "[777]\tvalidation-rmse:8.31132\n",
      "[778]\tvalidation-rmse:8.31135\n",
      "[779]\tvalidation-rmse:8.31102\n",
      "[780]\tvalidation-rmse:8.31081\n",
      "[781]\tvalidation-rmse:8.31063\n",
      "[782]\tvalidation-rmse:8.31050\n",
      "[783]\tvalidation-rmse:8.31037\n",
      "[784]\tvalidation-rmse:8.31013\n",
      "[785]\tvalidation-rmse:8.30990\n",
      "[786]\tvalidation-rmse:8.30976\n",
      "[787]\tvalidation-rmse:8.30979\n",
      "[788]\tvalidation-rmse:8.30955\n",
      "[789]\tvalidation-rmse:8.30930\n",
      "[790]\tvalidation-rmse:8.30864\n",
      "[791]\tvalidation-rmse:8.30867\n",
      "[792]\tvalidation-rmse:8.30857\n",
      "[793]\tvalidation-rmse:8.30855\n",
      "[794]\tvalidation-rmse:8.30828\n",
      "[795]\tvalidation-rmse:8.30649\n",
      "[796]\tvalidation-rmse:8.30585\n",
      "[797]\tvalidation-rmse:8.30403\n",
      "[798]\tvalidation-rmse:8.30383\n",
      "[799]\tvalidation-rmse:8.30363\n",
      "[800]\tvalidation-rmse:8.30337\n",
      "[801]\tvalidation-rmse:8.30291\n",
      "[802]\tvalidation-rmse:8.30279\n",
      "[803]\tvalidation-rmse:8.30253\n",
      "[804]\tvalidation-rmse:8.30187\n",
      "[805]\tvalidation-rmse:8.30164\n",
      "[806]\tvalidation-rmse:8.30103\n",
      "[807]\tvalidation-rmse:8.30093\n",
      "[808]\tvalidation-rmse:8.30080\n",
      "[809]\tvalidation-rmse:8.30062\n",
      "[810]\tvalidation-rmse:8.30065\n",
      "[811]\tvalidation-rmse:8.30033\n",
      "[812]\tvalidation-rmse:8.30014\n",
      "[813]\tvalidation-rmse:8.30002\n",
      "[814]\tvalidation-rmse:8.29984\n",
      "[815]\tvalidation-rmse:8.29958\n",
      "[816]\tvalidation-rmse:8.29937\n",
      "[817]\tvalidation-rmse:8.29901\n",
      "[818]\tvalidation-rmse:8.29876\n",
      "[819]\tvalidation-rmse:8.29699\n",
      "[820]\tvalidation-rmse:8.29682\n",
      "[821]\tvalidation-rmse:8.29623\n",
      "[822]\tvalidation-rmse:8.29612\n",
      "[823]\tvalidation-rmse:8.29600\n",
      "[824]\tvalidation-rmse:8.29570\n",
      "[825]\tvalidation-rmse:8.29551\n",
      "[826]\tvalidation-rmse:8.29517\n",
      "[827]\tvalidation-rmse:8.29473\n",
      "[828]\tvalidation-rmse:8.29451\n",
      "[829]\tvalidation-rmse:8.29439\n",
      "[830]\tvalidation-rmse:8.29410\n",
      "[831]\tvalidation-rmse:8.29400\n",
      "[832]\tvalidation-rmse:8.29379\n",
      "[833]\tvalidation-rmse:8.29355\n",
      "[834]\tvalidation-rmse:8.29299\n",
      "[835]\tvalidation-rmse:8.29288\n",
      "[836]\tvalidation-rmse:8.29246\n",
      "[837]\tvalidation-rmse:8.29238\n",
      "[838]\tvalidation-rmse:8.29240\n",
      "[839]\tvalidation-rmse:8.29216\n",
      "[840]\tvalidation-rmse:8.29199\n",
      "[841]\tvalidation-rmse:8.29176\n",
      "[842]\tvalidation-rmse:8.29006\n",
      "[843]\tvalidation-rmse:8.28841\n",
      "[844]\tvalidation-rmse:8.28831\n",
      "[845]\tvalidation-rmse:8.28821\n",
      "[846]\tvalidation-rmse:8.28810\n",
      "[847]\tvalidation-rmse:8.28793\n",
      "[848]\tvalidation-rmse:8.28731\n",
      "[849]\tvalidation-rmse:8.28670\n",
      "[850]\tvalidation-rmse:8.28653\n",
      "[851]\tvalidation-rmse:8.28636\n",
      "[852]\tvalidation-rmse:8.28618\n",
      "[853]\tvalidation-rmse:8.28603\n",
      "[854]\tvalidation-rmse:8.28453\n",
      "[855]\tvalidation-rmse:8.28399\n",
      "[856]\tvalidation-rmse:8.28383\n",
      "[857]\tvalidation-rmse:8.28369\n",
      "[858]\tvalidation-rmse:8.28347\n",
      "[859]\tvalidation-rmse:8.28338\n",
      "[860]\tvalidation-rmse:8.28306\n",
      "[861]\tvalidation-rmse:8.28247\n",
      "[862]\tvalidation-rmse:8.28250\n",
      "[863]\tvalidation-rmse:8.28226\n",
      "[864]\tvalidation-rmse:8.28210\n",
      "[865]\tvalidation-rmse:8.28170\n",
      "[866]\tvalidation-rmse:8.28149\n",
      "[867]\tvalidation-rmse:8.28136\n",
      "[868]\tvalidation-rmse:8.28095\n",
      "[869]\tvalidation-rmse:8.28085\n",
      "[870]\tvalidation-rmse:8.28074\n",
      "[871]\tvalidation-rmse:8.28053\n",
      "[872]\tvalidation-rmse:8.28013\n",
      "[873]\tvalidation-rmse:8.27990\n",
      "[874]\tvalidation-rmse:8.27993\n",
      "[875]\tvalidation-rmse:8.27978\n",
      "[876]\tvalidation-rmse:8.27968\n",
      "[877]\tvalidation-rmse:8.27957\n",
      "[878]\tvalidation-rmse:8.27935\n",
      "[879]\tvalidation-rmse:8.27914\n",
      "[880]\tvalidation-rmse:8.27918\n",
      "[881]\tvalidation-rmse:8.27903\n",
      "[882]\tvalidation-rmse:8.27875\n",
      "[883]\tvalidation-rmse:8.27855\n",
      "[884]\tvalidation-rmse:8.27841\n",
      "[885]\tvalidation-rmse:8.27783\n",
      "[886]\tvalidation-rmse:8.27763\n",
      "[887]\tvalidation-rmse:8.27724\n",
      "[888]\tvalidation-rmse:8.27715\n",
      "[889]\tvalidation-rmse:8.27705\n",
      "[890]\tvalidation-rmse:8.27697\n",
      "[891]\tvalidation-rmse:8.27677\n",
      "[892]\tvalidation-rmse:8.27674\n",
      "[893]\tvalidation-rmse:8.27678\n",
      "[894]\tvalidation-rmse:8.27677\n",
      "[895]\tvalidation-rmse:8.27668\n",
      "[896]\tvalidation-rmse:8.27652\n",
      "[897]\tvalidation-rmse:8.27625\n",
      "[898]\tvalidation-rmse:8.27616\n",
      "[899]\tvalidation-rmse:8.27602\n",
      "[900]\tvalidation-rmse:8.27593\n",
      "[901]\tvalidation-rmse:8.27573\n",
      "[902]\tvalidation-rmse:8.27560\n",
      "[903]\tvalidation-rmse:8.27545\n",
      "[904]\tvalidation-rmse:8.27393\n",
      "[905]\tvalidation-rmse:8.27379\n",
      "[906]\tvalidation-rmse:8.27341\n",
      "[907]\tvalidation-rmse:8.27333\n",
      "[908]\tvalidation-rmse:8.27337\n",
      "[909]\tvalidation-rmse:8.27323\n",
      "[910]\tvalidation-rmse:8.27303\n",
      "[911]\tvalidation-rmse:8.27288\n",
      "[912]\tvalidation-rmse:8.27269\n",
      "[913]\tvalidation-rmse:8.27271\n",
      "[914]\tvalidation-rmse:8.27264\n",
      "[915]\tvalidation-rmse:8.27244\n",
      "[916]\tvalidation-rmse:8.27188\n",
      "[917]\tvalidation-rmse:8.27136\n",
      "[918]\tvalidation-rmse:8.27116\n",
      "[919]\tvalidation-rmse:8.27090\n",
      "[920]\tvalidation-rmse:8.27068\n",
      "[921]\tvalidation-rmse:8.27055\n",
      "[922]\tvalidation-rmse:8.27034\n",
      "[923]\tvalidation-rmse:8.27015\n",
      "[924]\tvalidation-rmse:8.26996\n",
      "[925]\tvalidation-rmse:8.26985\n",
      "[926]\tvalidation-rmse:8.26935\n",
      "[927]\tvalidation-rmse:8.26788\n",
      "[928]\tvalidation-rmse:8.26733\n",
      "[929]\tvalidation-rmse:8.26721\n",
      "[930]\tvalidation-rmse:8.26684\n",
      "[931]\tvalidation-rmse:8.26665\n",
      "[932]\tvalidation-rmse:8.26646\n",
      "[933]\tvalidation-rmse:8.26638\n",
      "[934]\tvalidation-rmse:8.26631\n",
      "[935]\tvalidation-rmse:8.26623\n",
      "[936]\tvalidation-rmse:8.26569\n",
      "[937]\tvalidation-rmse:8.26436\n",
      "[938]\tvalidation-rmse:8.26422\n",
      "[939]\tvalidation-rmse:8.26410\n",
      "[940]\tvalidation-rmse:8.26362\n",
      "[941]\tvalidation-rmse:8.26337\n",
      "[942]\tvalidation-rmse:8.26312\n",
      "[943]\tvalidation-rmse:8.26305\n",
      "[944]\tvalidation-rmse:8.26298\n",
      "[945]\tvalidation-rmse:8.26288\n",
      "[946]\tvalidation-rmse:8.26276\n",
      "[947]\tvalidation-rmse:8.26268\n",
      "[948]\tvalidation-rmse:8.26259\n",
      "[949]\tvalidation-rmse:8.26235\n",
      "[950]\tvalidation-rmse:8.26099\n",
      "[951]\tvalidation-rmse:8.26085\n",
      "[952]\tvalidation-rmse:8.26057\n",
      "[953]\tvalidation-rmse:8.26020\n",
      "[954]\tvalidation-rmse:8.25967\n",
      "[955]\tvalidation-rmse:8.25945\n",
      "[956]\tvalidation-rmse:8.25949\n",
      "[957]\tvalidation-rmse:8.25930\n",
      "[958]\tvalidation-rmse:8.25917\n",
      "[959]\tvalidation-rmse:8.25864\n",
      "[960]\tvalidation-rmse:8.25852\n",
      "[961]\tvalidation-rmse:8.25832\n",
      "[962]\tvalidation-rmse:8.25814\n",
      "[963]\tvalidation-rmse:8.25808\n",
      "[964]\tvalidation-rmse:8.25790\n",
      "[965]\tvalidation-rmse:8.25657\n",
      "[966]\tvalidation-rmse:8.25651\n",
      "[967]\tvalidation-rmse:8.25633\n",
      "[968]\tvalidation-rmse:8.25622\n",
      "[969]\tvalidation-rmse:8.25598\n",
      "[970]\tvalidation-rmse:8.25563\n",
      "[971]\tvalidation-rmse:8.25557\n",
      "[972]\tvalidation-rmse:8.25546\n",
      "[973]\tvalidation-rmse:8.25534\n",
      "[974]\tvalidation-rmse:8.25519\n",
      "[975]\tvalidation-rmse:8.25469\n",
      "[976]\tvalidation-rmse:8.25452\n",
      "[977]\tvalidation-rmse:8.25434\n",
      "[978]\tvalidation-rmse:8.25419\n",
      "[979]\tvalidation-rmse:8.25374\n",
      "[980]\tvalidation-rmse:8.25352\n",
      "[981]\tvalidation-rmse:8.25341\n",
      "[982]\tvalidation-rmse:8.25335\n",
      "[983]\tvalidation-rmse:8.25316\n",
      "[984]\tvalidation-rmse:8.25306\n",
      "[985]\tvalidation-rmse:8.25281\n",
      "[986]\tvalidation-rmse:8.25284\n",
      "[987]\tvalidation-rmse:8.25272\n",
      "[988]\tvalidation-rmse:8.25255\n",
      "[989]\tvalidation-rmse:8.25207\n",
      "[990]\tvalidation-rmse:8.25156\n",
      "[991]\tvalidation-rmse:8.25120\n",
      "[992]\tvalidation-rmse:8.25097\n",
      "[993]\tvalidation-rmse:8.25077\n",
      "[994]\tvalidation-rmse:8.25033\n",
      "[995]\tvalidation-rmse:8.25000\n",
      "[996]\tvalidation-rmse:8.24987\n",
      "[997]\tvalidation-rmse:8.24967\n",
      "[998]\tvalidation-rmse:8.24961\n",
      "[999]\tvalidation-rmse:8.24944\n"
     ]
    },
    {
     "name": "stderr",
     "output_type": "stream",
     "text": [
      "2024/07/07 09:28:14 WARNING mlflow.xgboost: Failed to infer model signature: could not sample data to infer model signature: please ensure that autologging is enabled before constructing the dataset.\n",
      "2024/07/07 09:28:14 WARNING mlflow.utils.autologging_utils: MLflow autologging encountered a warning: \"/home/codespace/.python/current/lib/python3.10/site-packages/xgboost/core.py:158: UserWarning: [09:28:14] WARNING: /workspace/src/c_api/c_api.cc:1374: Saving model in the UBJSON format as default.  You can use file extension: `json`, `ubj` or `deprecated` to choose between formats.\"\n",
      "2024/07/07 09:28:15 WARNING mlflow.utils.autologging_utils: MLflow autologging encountered a warning: \"/home/codespace/.python/current/lib/python3.10/site-packages/_distutils_hack/__init__.py:18: UserWarning: Distutils was imported before Setuptools, but importing Setuptools also replaces the `distutils` module in `sys.modules`. This may lead to undesirable behaviors or errors. To avoid these issues, avoid using distutils directly, ensure that setuptools is installed in the traditional way (e.g. not an editable install), and/or make sure that setuptools is always imported before distutils.\"\n",
      "2024/07/07 09:28:15 WARNING mlflow.utils.autologging_utils: MLflow autologging encountered a warning: \"/home/codespace/.python/current/lib/python3.10/site-packages/_distutils_hack/__init__.py:33: UserWarning: Setuptools is replacing distutils.\"\n",
      "/home/codespace/.local/lib/python3.10/site-packages/sklearn/metrics/_regression.py:492: FutureWarning: 'squared' is deprecated in version 1.4 and will be removed in 1.6. To calculate the root mean squared error, use the function'root_mean_squared_error'.\n",
      "  warnings.warn(\n"
     ]
    }
   ],
   "source": [
    "\n",
    "mlflow.xgboost.autolog()\n",
    "booster=xgb.train(\n",
    "            params=hyperparams,\n",
    "            dtrain=train,\n",
    "            num_boost_round=100,\n",
    "            early_stopping_rounds=50,\n",
    "            evals=[(valid, \"validation\")])\n",
    "y_pred=booster.predict(valid)\n",
    "rmse = mean_squared_error(y_val, y_pred, squared=False)\n",
    "mlflow.log_metric(\"rmse\", rmse)"
   ]
  },
  {
   "cell_type": "code",
   "execution_count": 90,
   "id": "9faaa48b",
   "metadata": {},
   "outputs": [
    {
     "ename": "MlflowException",
     "evalue": "Run with id=f057b62d35924722b03678f9001d984e not found",
     "output_type": "error",
     "traceback": [
      "\u001b[0;31m---------------------------------------------------------------------------\u001b[0m",
      "\u001b[0;31mMlflowException\u001b[0m                           Traceback (most recent call last)",
      "Cell \u001b[0;32mIn[90], line 3\u001b[0m\n\u001b[1;32m      1\u001b[0m \u001b[38;5;28;01mimport\u001b[39;00m \u001b[38;5;21;01mmlflow\u001b[39;00m\n\u001b[1;32m      2\u001b[0m logged_model \u001b[38;5;241m=\u001b[39m \u001b[38;5;124m'\u001b[39m\u001b[38;5;124mruns:/f057b62d35924722b03678f9001d984e/models_mlflow\u001b[39m\u001b[38;5;124m'\u001b[39m\n\u001b[0;32m----> 3\u001b[0m loaded_model \u001b[38;5;241m=\u001b[39m \u001b[43mmlflow\u001b[49m\u001b[38;5;241;43m.\u001b[39;49m\u001b[43mpyfunc\u001b[49m\u001b[38;5;241;43m.\u001b[39;49m\u001b[43mload_model\u001b[49m\u001b[43m(\u001b[49m\u001b[43mlogged_model\u001b[49m\u001b[43m)\u001b[49m\n\u001b[1;32m      4\u001b[0m loaded_model\n",
      "File \u001b[0;32m~/.python/current/lib/python3.10/site-packages/mlflow/tracing/provider.py:237\u001b[0m, in \u001b[0;36mtrace_disabled.<locals>.wrapper\u001b[0;34m(*args, **kwargs)\u001b[0m\n\u001b[1;32m    235\u001b[0m disable()\n\u001b[1;32m    236\u001b[0m \u001b[38;5;28;01mtry\u001b[39;00m:\n\u001b[0;32m--> 237\u001b[0m     is_func_called, result \u001b[38;5;241m=\u001b[39m \u001b[38;5;28;01mTrue\u001b[39;00m, \u001b[43mf\u001b[49m\u001b[43m(\u001b[49m\u001b[38;5;241;43m*\u001b[39;49m\u001b[43margs\u001b[49m\u001b[43m,\u001b[49m\u001b[43m \u001b[49m\u001b[38;5;241;43m*\u001b[39;49m\u001b[38;5;241;43m*\u001b[39;49m\u001b[43mkwargs\u001b[49m\u001b[43m)\u001b[49m\n\u001b[1;32m    238\u001b[0m \u001b[38;5;28;01mfinally\u001b[39;00m:\n\u001b[1;32m    239\u001b[0m     enable()\n",
      "File \u001b[0;32m~/.python/current/lib/python3.10/site-packages/mlflow/pyfunc/__init__.py:985\u001b[0m, in \u001b[0;36mload_model\u001b[0;34m(model_uri, suppress_warnings, dst_path, model_config)\u001b[0m\n\u001b[1;32m    981\u001b[0m         entity_list\u001b[38;5;241m.\u001b[39mappend(Entity(job\u001b[38;5;241m=\u001b[39mjob_entity))\n\u001b[1;32m    983\u001b[0m     lineage_header_info \u001b[38;5;241m=\u001b[39m LineageHeaderInfo(entities\u001b[38;5;241m=\u001b[39mentity_list) \u001b[38;5;28;01mif\u001b[39;00m entity_list \u001b[38;5;28;01melse\u001b[39;00m \u001b[38;5;28;01mNone\u001b[39;00m\n\u001b[0;32m--> 985\u001b[0m local_path \u001b[38;5;241m=\u001b[39m \u001b[43m_download_artifact_from_uri\u001b[49m\u001b[43m(\u001b[49m\n\u001b[1;32m    986\u001b[0m \u001b[43m    \u001b[49m\u001b[43martifact_uri\u001b[49m\u001b[38;5;241;43m=\u001b[39;49m\u001b[43mmodel_uri\u001b[49m\u001b[43m,\u001b[49m\u001b[43m \u001b[49m\u001b[43moutput_path\u001b[49m\u001b[38;5;241;43m=\u001b[39;49m\u001b[43mdst_path\u001b[49m\u001b[43m,\u001b[49m\u001b[43m \u001b[49m\u001b[43mlineage_header_info\u001b[49m\u001b[38;5;241;43m=\u001b[39;49m\u001b[43mlineage_header_info\u001b[49m\n\u001b[1;32m    987\u001b[0m \u001b[43m\u001b[49m\u001b[43m)\u001b[49m\n\u001b[1;32m    989\u001b[0m \u001b[38;5;28;01mif\u001b[39;00m \u001b[38;5;129;01mnot\u001b[39;00m suppress_warnings:\n\u001b[1;32m    990\u001b[0m     model_requirements \u001b[38;5;241m=\u001b[39m _get_pip_requirements_from_model_path(local_path)\n",
      "File \u001b[0;32m~/.python/current/lib/python3.10/site-packages/mlflow/tracking/artifact_utils.py:108\u001b[0m, in \u001b[0;36m_download_artifact_from_uri\u001b[0;34m(artifact_uri, output_path, lineage_header_info)\u001b[0m\n\u001b[1;32m    100\u001b[0m \u001b[38;5;250m\u001b[39m\u001b[38;5;124;03m\"\"\"\u001b[39;00m\n\u001b[1;32m    101\u001b[0m \u001b[38;5;124;03mArgs:\u001b[39;00m\n\u001b[1;32m    102\u001b[0m \u001b[38;5;124;03m    artifact_uri: The *absolute* URI of the artifact to download.\u001b[39;00m\n\u001b[0;32m   (...)\u001b[0m\n\u001b[1;32m    105\u001b[0m \u001b[38;5;124;03m    lineage_header_info: The model lineage header info to be consumed by lineage services.\u001b[39;00m\n\u001b[1;32m    106\u001b[0m \u001b[38;5;124;03m\"\"\"\u001b[39;00m\n\u001b[1;32m    107\u001b[0m root_uri, artifact_path \u001b[38;5;241m=\u001b[39m _get_root_uri_and_artifact_path(artifact_uri)\n\u001b[0;32m--> 108\u001b[0m repo \u001b[38;5;241m=\u001b[39m \u001b[43mget_artifact_repository\u001b[49m\u001b[43m(\u001b[49m\u001b[43martifact_uri\u001b[49m\u001b[38;5;241;43m=\u001b[39;49m\u001b[43mroot_uri\u001b[49m\u001b[43m)\u001b[49m\n\u001b[1;32m    110\u001b[0m \u001b[38;5;28;01mif\u001b[39;00m \u001b[38;5;28misinstance\u001b[39m(repo, ModelsArtifactRepository):\n\u001b[1;32m    111\u001b[0m     \u001b[38;5;28;01mreturn\u001b[39;00m repo\u001b[38;5;241m.\u001b[39mdownload_artifacts(\n\u001b[1;32m    112\u001b[0m         artifact_path\u001b[38;5;241m=\u001b[39martifact_path,\n\u001b[1;32m    113\u001b[0m         dst_path\u001b[38;5;241m=\u001b[39moutput_path,\n\u001b[1;32m    114\u001b[0m         lineage_header_info\u001b[38;5;241m=\u001b[39mlineage_header_info,\n\u001b[1;32m    115\u001b[0m     )\n",
      "File \u001b[0;32m~/.python/current/lib/python3.10/site-packages/mlflow/store/artifact/artifact_repository_registry.py:124\u001b[0m, in \u001b[0;36mget_artifact_repository\u001b[0;34m(artifact_uri)\u001b[0m\n\u001b[1;32m    111\u001b[0m \u001b[38;5;28;01mdef\u001b[39;00m \u001b[38;5;21mget_artifact_repository\u001b[39m(artifact_uri: \u001b[38;5;28mstr\u001b[39m) \u001b[38;5;241m-\u001b[39m\u001b[38;5;241m>\u001b[39m ArtifactRepository:\n\u001b[1;32m    112\u001b[0m \u001b[38;5;250m    \u001b[39m\u001b[38;5;124;03m\"\"\"\u001b[39;00m\n\u001b[1;32m    113\u001b[0m \u001b[38;5;124;03m    Get an artifact repository from the registry based on the scheme of artifact_uri\u001b[39;00m\n\u001b[1;32m    114\u001b[0m \n\u001b[0;32m   (...)\u001b[0m\n\u001b[1;32m    122\u001b[0m \u001b[38;5;124;03m        requirements.\u001b[39;00m\n\u001b[1;32m    123\u001b[0m \u001b[38;5;124;03m    \"\"\"\u001b[39;00m\n\u001b[0;32m--> 124\u001b[0m     \u001b[38;5;28;01mreturn\u001b[39;00m \u001b[43m_artifact_repository_registry\u001b[49m\u001b[38;5;241;43m.\u001b[39;49m\u001b[43mget_artifact_repository\u001b[49m\u001b[43m(\u001b[49m\u001b[43martifact_uri\u001b[49m\u001b[43m)\u001b[49m\n",
      "File \u001b[0;32m~/.python/current/lib/python3.10/site-packages/mlflow/store/artifact/artifact_repository_registry.py:77\u001b[0m, in \u001b[0;36mArtifactRepositoryRegistry.get_artifact_repository\u001b[0;34m(self, artifact_uri)\u001b[0m\n\u001b[1;32m     72\u001b[0m \u001b[38;5;28;01mif\u001b[39;00m repository \u001b[38;5;129;01mis\u001b[39;00m \u001b[38;5;28;01mNone\u001b[39;00m:\n\u001b[1;32m     73\u001b[0m     \u001b[38;5;28;01mraise\u001b[39;00m MlflowException(\n\u001b[1;32m     74\u001b[0m         \u001b[38;5;124mf\u001b[39m\u001b[38;5;124m\"\u001b[39m\u001b[38;5;124mCould not find a registered artifact repository for: \u001b[39m\u001b[38;5;132;01m{\u001b[39;00martifact_uri\u001b[38;5;132;01m}\u001b[39;00m\u001b[38;5;124m. \u001b[39m\u001b[38;5;124m\"\u001b[39m\n\u001b[1;32m     75\u001b[0m         \u001b[38;5;124mf\u001b[39m\u001b[38;5;124m\"\u001b[39m\u001b[38;5;124mCurrently registered schemes are: \u001b[39m\u001b[38;5;132;01m{\u001b[39;00m\u001b[38;5;28mlist\u001b[39m(\u001b[38;5;28mself\u001b[39m\u001b[38;5;241m.\u001b[39m_registry\u001b[38;5;241m.\u001b[39mkeys())\u001b[38;5;132;01m}\u001b[39;00m\u001b[38;5;124m\"\u001b[39m\n\u001b[1;32m     76\u001b[0m     )\n\u001b[0;32m---> 77\u001b[0m \u001b[38;5;28;01mreturn\u001b[39;00m \u001b[43mrepository\u001b[49m\u001b[43m(\u001b[49m\u001b[43martifact_uri\u001b[49m\u001b[43m)\u001b[49m\n",
      "File \u001b[0;32m~/.python/current/lib/python3.10/site-packages/mlflow/store/artifact/runs_artifact_repo.py:26\u001b[0m, in \u001b[0;36mRunsArtifactRepository.__init__\u001b[0;34m(self, artifact_uri)\u001b[0m\n\u001b[1;32m     23\u001b[0m \u001b[38;5;28;01mfrom\u001b[39;00m \u001b[38;5;21;01mmlflow\u001b[39;00m\u001b[38;5;21;01m.\u001b[39;00m\u001b[38;5;21;01mstore\u001b[39;00m\u001b[38;5;21;01m.\u001b[39;00m\u001b[38;5;21;01martifact\u001b[39;00m\u001b[38;5;21;01m.\u001b[39;00m\u001b[38;5;21;01martifact_repository_registry\u001b[39;00m \u001b[38;5;28;01mimport\u001b[39;00m get_artifact_repository\n\u001b[1;32m     25\u001b[0m \u001b[38;5;28msuper\u001b[39m()\u001b[38;5;241m.\u001b[39m\u001b[38;5;21m__init__\u001b[39m(artifact_uri)\n\u001b[0;32m---> 26\u001b[0m uri \u001b[38;5;241m=\u001b[39m \u001b[43mRunsArtifactRepository\u001b[49m\u001b[38;5;241;43m.\u001b[39;49m\u001b[43mget_underlying_uri\u001b[49m\u001b[43m(\u001b[49m\u001b[43martifact_uri\u001b[49m\u001b[43m)\u001b[49m\n\u001b[1;32m     27\u001b[0m \u001b[38;5;28mself\u001b[39m\u001b[38;5;241m.\u001b[39mrepo \u001b[38;5;241m=\u001b[39m get_artifact_repository(uri)\n",
      "File \u001b[0;32m~/.python/current/lib/python3.10/site-packages/mlflow/store/artifact/runs_artifact_repo.py:39\u001b[0m, in \u001b[0;36mRunsArtifactRepository.get_underlying_uri\u001b[0;34m(runs_uri)\u001b[0m\n\u001b[1;32m     37\u001b[0m (run_id, artifact_path) \u001b[38;5;241m=\u001b[39m RunsArtifactRepository\u001b[38;5;241m.\u001b[39mparse_runs_uri(runs_uri)\n\u001b[1;32m     38\u001b[0m tracking_uri \u001b[38;5;241m=\u001b[39m get_databricks_profile_uri_from_artifact_uri(runs_uri)\n\u001b[0;32m---> 39\u001b[0m uri \u001b[38;5;241m=\u001b[39m \u001b[43mget_artifact_uri\u001b[49m\u001b[43m(\u001b[49m\u001b[43mrun_id\u001b[49m\u001b[43m,\u001b[49m\u001b[43m \u001b[49m\u001b[43martifact_path\u001b[49m\u001b[43m,\u001b[49m\u001b[43m \u001b[49m\u001b[43mtracking_uri\u001b[49m\u001b[43m)\u001b[49m\n\u001b[1;32m     40\u001b[0m \u001b[38;5;28;01massert\u001b[39;00m \u001b[38;5;129;01mnot\u001b[39;00m RunsArtifactRepository\u001b[38;5;241m.\u001b[39mis_runs_uri(uri)  \u001b[38;5;66;03m# avoid an infinite loop\u001b[39;00m\n\u001b[1;32m     41\u001b[0m \u001b[38;5;28;01mreturn\u001b[39;00m add_databricks_profile_info_to_artifact_uri(uri, tracking_uri)\n",
      "File \u001b[0;32m~/.python/current/lib/python3.10/site-packages/mlflow/tracking/artifact_utils.py:52\u001b[0m, in \u001b[0;36mget_artifact_uri\u001b[0;34m(run_id, artifact_path, tracking_uri)\u001b[0m\n\u001b[1;32m     46\u001b[0m     \u001b[38;5;28;01mraise\u001b[39;00m MlflowException(\n\u001b[1;32m     47\u001b[0m         message\u001b[38;5;241m=\u001b[39m\u001b[38;5;124m\"\u001b[39m\u001b[38;5;124mA run_id must be specified in order to obtain an artifact uri!\u001b[39m\u001b[38;5;124m\"\u001b[39m,\n\u001b[1;32m     48\u001b[0m         error_code\u001b[38;5;241m=\u001b[39mINVALID_PARAMETER_VALUE,\n\u001b[1;32m     49\u001b[0m     )\n\u001b[1;32m     51\u001b[0m store \u001b[38;5;241m=\u001b[39m _get_store(tracking_uri)\n\u001b[0;32m---> 52\u001b[0m run \u001b[38;5;241m=\u001b[39m \u001b[43mstore\u001b[49m\u001b[38;5;241;43m.\u001b[39;49m\u001b[43mget_run\u001b[49m\u001b[43m(\u001b[49m\u001b[43mrun_id\u001b[49m\u001b[43m)\u001b[49m\n\u001b[1;32m     53\u001b[0m \u001b[38;5;66;03m# Maybe move this method to RunsArtifactRepository so the circular dependency is clearer.\u001b[39;00m\n\u001b[1;32m     54\u001b[0m \u001b[38;5;28;01massert\u001b[39;00m urllib\u001b[38;5;241m.\u001b[39mparse\u001b[38;5;241m.\u001b[39murlparse(run\u001b[38;5;241m.\u001b[39minfo\u001b[38;5;241m.\u001b[39martifact_uri)\u001b[38;5;241m.\u001b[39mscheme \u001b[38;5;241m!=\u001b[39m \u001b[38;5;124m\"\u001b[39m\u001b[38;5;124mruns\u001b[39m\u001b[38;5;124m\"\u001b[39m  \u001b[38;5;66;03m# avoid an infinite loop\u001b[39;00m\n",
      "File \u001b[0;32m~/.python/current/lib/python3.10/site-packages/mlflow/store/tracking/sqlalchemy_store.py:640\u001b[0m, in \u001b[0;36mSqlAlchemyStore.get_run\u001b[0;34m(self, run_id)\u001b[0m\n\u001b[1;32m    634\u001b[0m \u001b[38;5;28;01mdef\u001b[39;00m \u001b[38;5;21mget_run\u001b[39m(\u001b[38;5;28mself\u001b[39m, run_id):\n\u001b[1;32m    635\u001b[0m     \u001b[38;5;28;01mwith\u001b[39;00m \u001b[38;5;28mself\u001b[39m\u001b[38;5;241m.\u001b[39mManagedSessionMaker() \u001b[38;5;28;01mas\u001b[39;00m session:\n\u001b[1;32m    636\u001b[0m         \u001b[38;5;66;03m# Load the run with the specified id and eagerly load its summary metrics, params, and\u001b[39;00m\n\u001b[1;32m    637\u001b[0m         \u001b[38;5;66;03m# tags. These attributes are referenced during the invocation of\u001b[39;00m\n\u001b[1;32m    638\u001b[0m         \u001b[38;5;66;03m# ``run.to_mlflow_entity()``, so eager loading helps avoid additional database queries\u001b[39;00m\n\u001b[1;32m    639\u001b[0m         \u001b[38;5;66;03m# that are otherwise executed at attribute access time under a lazy loading model.\u001b[39;00m\n\u001b[0;32m--> 640\u001b[0m         run \u001b[38;5;241m=\u001b[39m \u001b[38;5;28;43mself\u001b[39;49m\u001b[38;5;241;43m.\u001b[39;49m\u001b[43m_get_run\u001b[49m\u001b[43m(\u001b[49m\u001b[43mrun_uuid\u001b[49m\u001b[38;5;241;43m=\u001b[39;49m\u001b[43mrun_id\u001b[49m\u001b[43m,\u001b[49m\u001b[43m \u001b[49m\u001b[43msession\u001b[49m\u001b[38;5;241;43m=\u001b[39;49m\u001b[43msession\u001b[49m\u001b[43m,\u001b[49m\u001b[43m \u001b[49m\u001b[43meager\u001b[49m\u001b[38;5;241;43m=\u001b[39;49m\u001b[38;5;28;43;01mTrue\u001b[39;49;00m\u001b[43m)\u001b[49m\n\u001b[1;32m    641\u001b[0m         mlflow_run \u001b[38;5;241m=\u001b[39m run\u001b[38;5;241m.\u001b[39mto_mlflow_entity()\n\u001b[1;32m    642\u001b[0m         \u001b[38;5;66;03m# Get the run inputs and add to the run\u001b[39;00m\n",
      "File \u001b[0;32m~/.python/current/lib/python3.10/site-packages/mlflow/store/tracking/sqlalchemy_store.py:524\u001b[0m, in \u001b[0;36mSqlAlchemyStore._get_run\u001b[0;34m(self, session, run_uuid, eager)\u001b[0m\n\u001b[1;32m    519\u001b[0m runs \u001b[38;5;241m=\u001b[39m (\n\u001b[1;32m    520\u001b[0m     session\u001b[38;5;241m.\u001b[39mquery(SqlRun)\u001b[38;5;241m.\u001b[39moptions(\u001b[38;5;241m*\u001b[39mquery_options)\u001b[38;5;241m.\u001b[39mfilter(SqlRun\u001b[38;5;241m.\u001b[39mrun_uuid \u001b[38;5;241m==\u001b[39m run_uuid)\u001b[38;5;241m.\u001b[39mall()\n\u001b[1;32m    521\u001b[0m )\n\u001b[1;32m    523\u001b[0m \u001b[38;5;28;01mif\u001b[39;00m \u001b[38;5;28mlen\u001b[39m(runs) \u001b[38;5;241m==\u001b[39m \u001b[38;5;241m0\u001b[39m:\n\u001b[0;32m--> 524\u001b[0m     \u001b[38;5;28;01mraise\u001b[39;00m MlflowException(\u001b[38;5;124mf\u001b[39m\u001b[38;5;124m\"\u001b[39m\u001b[38;5;124mRun with id=\u001b[39m\u001b[38;5;132;01m{\u001b[39;00mrun_uuid\u001b[38;5;132;01m}\u001b[39;00m\u001b[38;5;124m not found\u001b[39m\u001b[38;5;124m\"\u001b[39m, RESOURCE_DOES_NOT_EXIST)\n\u001b[1;32m    525\u001b[0m \u001b[38;5;28;01mif\u001b[39;00m \u001b[38;5;28mlen\u001b[39m(runs) \u001b[38;5;241m>\u001b[39m \u001b[38;5;241m1\u001b[39m:\n\u001b[1;32m    526\u001b[0m     \u001b[38;5;28;01mraise\u001b[39;00m MlflowException(\n\u001b[1;32m    527\u001b[0m         \u001b[38;5;124mf\u001b[39m\u001b[38;5;124m\"\u001b[39m\u001b[38;5;124mExpected only 1 run with id=\u001b[39m\u001b[38;5;132;01m{\u001b[39;00mrun_uuid\u001b[38;5;132;01m}\u001b[39;00m\u001b[38;5;124m. Found \u001b[39m\u001b[38;5;132;01m{\u001b[39;00m\u001b[38;5;28mlen\u001b[39m(runs)\u001b[38;5;132;01m}\u001b[39;00m\u001b[38;5;124m.\u001b[39m\u001b[38;5;124m\"\u001b[39m,\n\u001b[1;32m    528\u001b[0m         INVALID_STATE,\n\u001b[1;32m    529\u001b[0m     )\n",
      "\u001b[0;31mMlflowException\u001b[0m: Run with id=f057b62d35924722b03678f9001d984e not found"
     ]
    }
   ],
   "source": [
    "import mlflow\n",
    "logged_model = 'runs:/xxxxxx/models_mlflow'\n",
    "loaded_model = mlflow.pyfunc.load_model(logged_model)\n",
    "loaded_model"
   ]
  },
  {
   "cell_type": "code",
   "execution_count": null,
   "id": "b9beb848",
   "metadata": {},
   "outputs": [],
   "source": [
    "loaded_model = mlflow.pyfunc.load_model(logged_model)\n",
    "import mlflow.xgboost\n",
    "xgboost_model = mlflow.xgboost.load_model(logged_model)"
   ]
  },
  {
   "cell_type": "code",
   "execution_count": null,
   "id": "ebe5d83c",
   "metadata": {},
   "outputs": [
    {
     "data": {
      "text/plain": [
       "<xgboost.core.Booster at 0x73f1cd82f880>"
      ]
     },
     "execution_count": 88,
     "metadata": {},
     "output_type": "execute_result"
    }
   ],
   "source": [
    "xgboost_model"
   ]
  },
  {
   "cell_type": "code",
   "execution_count": null,
   "id": "6af55413",
   "metadata": {},
   "outputs": [
    {
     "data": {
      "text/plain": [
       "array([12.872271, 26.821747, 12.919162, ..., 12.919162, 13.479717,\n",
       "       12.919162], dtype=float32)"
      ]
     },
     "execution_count": 89,
     "metadata": {},
     "output_type": "execute_result"
    }
   ],
   "source": [
    "xgboost_model.predict(valid)"
   ]
  },
  {
   "cell_type": "markdown",
   "id": "efd3ee8d",
   "metadata": {},
   "source": [
    "### Deep Learning"
   ]
  },
  {
   "cell_type": "code",
   "execution_count": null,
   "id": "7aa07df4",
   "metadata": {},
   "outputs": [],
   "source": [
    "\n",
    "class TaxiTripModel(nn.Module):\n",
    "    def __init__(self):\n",
    "        super(TaxiTripModel, self).__init__()\n",
    "        self.layer1 = nn.Linear(X_train.shape[1], 128)\n",
    "        self.layer2 = nn.Linear(128, 64)\n",
    "        self.layer3 = nn.Linear(64, 32)\n",
    "        self.output = nn.Linear(32, 1)\n",
    "        self.relu = nn.ReLU()\n",
    "\n",
    "    def forward(self, x):\n",
    "        x = self.relu(self.layer1(x))\n",
    "        x = self.relu(self.layer2(x))\n",
    "        x = self.relu(self.layer3(x))\n",
    "        return self.output(x)"
   ]
  },
  {
   "cell_type": "code",
   "execution_count": null,
   "id": "d54a785a",
   "metadata": {},
   "outputs": [],
   "source": [
    "# Convert data to PyTorch tensors and create DataLoaders\n",
    "X_train_tensor = torch.tensor(X_train, dtype=torch.float32)\n",
    "y_train_tensor = torch.tensor(y_train, dtype=torch.float32)\n",
    "X_val_tensor = torch.tensor(X_val, dtype=torch.float32)\n",
    "y_val_tensor = torch.tensor(y_val, dtype=torch.float32)\n",
    "train_data = TensorDataset(X_train_tensor, y_train_tensor)\n",
    "train_loader = DataLoader(train_data, batch_size=64, shuffle=True)\n",
    "val_data = TensorDataset(X_val_tensor, y_val_tensor)\n",
    "val_loader = DataLoader(val_data, batch_size=64, shuffle=False)"
   ]
  },
  {
   "cell_type": "code",
   "execution_count": null,
   "id": "3baa1ee9",
   "metadata": {},
   "outputs": [],
   "source": [
    "# Train the PyTorch model\n",
    "model = TaxiTripModel()\n",
    "optimizer = torch.optim.Adam(model.parameters(), lr=0.001)\n",
    "loss_fn = nn.MSELoss()"
   ]
  },
  {
   "cell_type": "code",
   "execution_count": null,
   "id": "d9f21b79",
   "metadata": {},
   "outputs": [],
   "source": [
    "def train_model(model, train_loader, val_loader, loss_fn, optimizer, num_epochs=10):\n",
    "    for epoch in range(num_epochs):\n",
    "        model.train()\n",
    "        for X_batch, y_batch in train_loader:\n",
    "            preds = model(X_batch)\n",
    "            loss = loss_fn(preds, y_batch.unsqueeze(1))\n",
    "            optimizer.zero_grad()\n",
    "            loss.backward()\n",
    "            optimizer.step()\n",
    "        model.eval()\n",
    "        val_loss = sum(loss_fn(model(X_val), y_val.unsqueeze(1)) for X_val, y_val in val_loader) / len(val_loader)\n",
    "        print(f'Epoch {epoch+1}, Loss: {loss.item()}, Validation Loss: {val_loss.item()}')"
   ]
  },
  {
   "cell_type": "code",
   "execution_count": null,
   "id": "79ebc387",
   "metadata": {},
   "outputs": [],
   "source": [
    "train_model(model, train_loader, val_loader, loss_fn, optimizer, num_epochs=10)\n",
    "\n",
    "# Save the trained PyTorch model and DictVectorizer\n",
    "with open('models/TaxiTripModel.bin', 'wb') as f_out:\n",
    "    pickle.dump((dv, model), f_out)"
   ]
  },
  {
   "cell_type": "markdown",
   "id": "78e58897",
   "metadata": {},
   "source": [
    "## Deploying model"
   ]
  },
  {
   "cell_type": "code",
   "execution_count": null,
   "id": "36176810",
   "metadata": {},
   "outputs": [],
   "source": [
    "from mlflow.tracking import MlflowClient\n",
    "mlflow_tracking_uri=\"sqlite:///mlflow.db\"\n",
    "client= MlflowClient(tracking_uri=mlflow_tracking_uri)"
   ]
  },
  {
   "cell_type": "code",
   "execution_count": null,
   "id": "e0b5f051",
   "metadata": {},
   "outputs": [
    {
     "data": {
      "text/plain": [
       "[<Experiment: artifact_location='/workspaces/mlopsProduction/02-experiment-tracking/mlruns/1', creation_time=1716364782674, experiment_id='1', last_update_time=1716364782674, lifecycle_stage='active', name='nyc-taxi-experiment', tags={}>,\n",
       " <Experiment: artifact_location='mlflow-artifacts:/0', creation_time=1716361841500, experiment_id='0', last_update_time=1716361841500, lifecycle_stage='active', name='Default', tags={}>]"
      ]
     },
     "execution_count": 99,
     "metadata": {},
     "output_type": "execute_result"
    }
   ],
   "source": [
    "import mlflow\n",
    "\n",
    "mlflow.search_experiments ()"
   ]
  },
  {
   "cell_type": "code",
   "execution_count": null,
   "id": "b969830a",
   "metadata": {},
   "outputs": [],
   "source": [
    "from mlflow.entities import ViewType\n",
    "\n",
    "runs = client.search_runs(\n",
    "    experiment_ids='1',\n",
    "    filter_string=\"\",\n",
    "    run_view_type=ViewType.ACTIVE_ONLY,\n",
    "    max_results= 5,\n",
    ")"
   ]
  },
  {
   "cell_type": "code",
   "execution_count": null,
   "id": "8761f67d",
   "metadata": {},
   "outputs": [
    {
     "name": "stdout",
     "output_type": "stream",
     "text": [
      "Run ID is f057b62d35924722b03678f9001d984e, RMSE: 8.9794\n",
      "Run ID is b151d8b09fb54022873cb16b0f9102d0, RMSE: 8.9794\n",
      "Run ID is 800c1181925a4115896d68daddc19086, RMSE: 8.9794\n",
      "Run ID is 972e2ddbbf6b4f4bbf3b912844899036, RMSE: Not available\n",
      "Run ID is 1d050bfba2d84cab915482be291d471f, RMSE: Not available\n"
     ]
    }
   ],
   "source": [
    "for run in runs:\n",
    "    if 'rmse' in run.data.metrics:\n",
    "        print(f\"Run ID is {run.info.run_id}, RMSE: {run.data.metrics['rmse']:.4f}\")\n",
    "    else:\n",
    "        print(f\"Run ID is {run.info.run_id}, RMSE: Not available\")\n"
   ]
  },
  {
   "cell_type": "code",
   "execution_count": null,
   "id": "47d3c7f3",
   "metadata": {},
   "outputs": [],
   "source": [
    "import mlflow"
   ]
  },
  {
   "cell_type": "code",
   "execution_count": null,
   "id": "fcd5a6eb",
   "metadata": {},
   "outputs": [],
   "source": [
    "run_id=\"f057b62d35924722b03678f9001d984e\"\n",
    "model_uri=f\"runs:/{run_id}/model\""
   ]
  },
  {
   "cell_type": "code",
   "execution_count": null,
   "id": "fdc8b2c9",
   "metadata": {},
   "outputs": [
    {
     "data": {
      "text/plain": [
       "'runs:/f057b62d35924722b03678f9001d984e/model'"
      ]
     },
     "execution_count": 117,
     "metadata": {},
     "output_type": "execute_result"
    }
   ],
   "source": [
    "model_uri"
   ]
  },
  {
   "cell_type": "code",
   "execution_count": null,
   "id": "bf36ce73",
   "metadata": {},
   "outputs": [],
   "source": [
    "mlflow.set_tracking_uri(mlflow_tracking_uri)"
   ]
  },
  {
   "cell_type": "code",
   "execution_count": null,
   "id": "25393f42",
   "metadata": {},
   "outputs": [
    {
     "name": "stderr",
     "output_type": "stream",
     "text": [
      "Successfully registered model 'nyc-taxi-experiment'.\n",
      "Created version '1' of model 'nyc-taxi-experiment'.\n"
     ]
    },
    {
     "data": {
      "text/plain": [
       "<ModelVersion: aliases=[], creation_timestamp=1716930879755, current_stage='None', description=None, last_updated_timestamp=1716930879755, name='nyc-taxi-experiment', run_id='f057b62d35924722b03678f9001d984e', run_link=None, source='/workspaces/mlopsProduction/02-experiment-tracking/mlruns/1/f057b62d35924722b03678f9001d984e/artifacts/model', status='READY', status_message=None, tags={}, user_id=None, version=1>"
      ]
     },
     "execution_count": 119,
     "metadata": {},
     "output_type": "execute_result"
    }
   ],
   "source": [
    "mlflow.register_model(model_uri=model_uri, name=\"nyc-taxi-experiment\")"
   ]
  },
  {
   "cell_type": "code",
   "execution_count": null,
   "id": "5cd63cba",
   "metadata": {},
   "outputs": [
    {
     "name": "stderr",
     "output_type": "stream",
     "text": [
      "/tmp/ipykernel_10974/4195685249.py:1: FutureWarning: ``mlflow.tracking.client.MlflowClient.get_latest_versions`` is deprecated since 2.9.0. Model registry stages will be removed in a future major release. To learn more about the deprecation of model registry stages, see our migration guide here: https://mlflow.org/docs/2.13.0/model-registry.html#migrating-from-stages\n",
      "  latest_version =client.get_latest_versions(name= \"nyc-taxi-experiment\")\n"
     ]
    }
   ],
   "source": [
    "latest_version =client.get_latest_versions(name= \"nyc-taxi-experiment\")"
   ]
  },
  {
   "cell_type": "code",
   "execution_count": null,
   "id": "98ab9b05",
   "metadata": {},
   "outputs": [
    {
     "name": "stdout",
     "output_type": "stream",
     "text": [
      "version: 1 , stage : None\n"
     ]
    }
   ],
   "source": [
    "for version in latest_version:\n",
    "    print(f'version: {version.version} , stage : {version.current_stage}')"
   ]
  },
  {
   "cell_type": "code",
   "execution_count": null,
   "id": "6e4dc162",
   "metadata": {},
   "outputs": [
    {
     "name": "stderr",
     "output_type": "stream",
     "text": [
      "/tmp/ipykernel_10974/3101054215.py:1: FutureWarning: ``mlflow.tracking.client.MlflowClient.transition_model_version_stage`` is deprecated since 2.9.0. Model registry stages will be removed in a future major release. To learn more about the deprecation of model registry stages, see our migration guide here: https://mlflow.org/docs/2.13.0/model-registry.html#migrating-from-stages\n",
      "  client.transition_model_version_stage(name=\"nyc-taxi-experiment\",\n"
     ]
    },
    {
     "data": {
      "text/plain": [
       "<ModelVersion: aliases=[], creation_timestamp=1716930879755, current_stage='Staging', description=None, last_updated_timestamp=1716931408409, name='nyc-taxi-experiment', run_id='f057b62d35924722b03678f9001d984e', run_link=None, source='/workspaces/mlopsProduction/02-experiment-tracking/mlruns/1/f057b62d35924722b03678f9001d984e/artifacts/model', status='READY', status_message=None, tags={}, user_id=None, version=1>"
      ]
     },
     "execution_count": 129,
     "metadata": {},
     "output_type": "execute_result"
    }
   ],
   "source": [
    "client.transition_model_version_stage(name=\"nyc-taxi-experiment\",\n",
    " version=1,\n",
    " stage=\"Staging\")"
   ]
  },
  {
   "cell_type": "code",
   "execution_count": null,
   "id": "88a36869",
   "metadata": {},
   "outputs": [],
   "source": [
    "client = mlflow.tracking.MlflowClient()\n"
   ]
  },
  {
   "cell_type": "code",
   "execution_count": null,
   "id": "31cef5cc",
   "metadata": {},
   "outputs": [],
   "source": [
    "client.set_model_version_tag(\n",
    "    name=\"nyc-taxi-experiment\",\n",
    "    version=1,\n",
    "    key=\"validation_status\",\n",
    "    value=\"approved\"\n",
    ")"
   ]
  },
  {
   "cell_type": "code",
   "execution_count": null,
   "id": "ab58ce10",
   "metadata": {},
   "outputs": [
    {
     "ename": "SyntaxError",
     "evalue": "invalid syntax. Maybe you meant '==' or ':=' instead of '='? (3856153427.py, line 2)",
     "output_type": "error",
     "traceback": [
      "\u001b[1;36m  Cell \u001b[1;32mIn[1], line 2\u001b[1;36m\u001b[0m\n\u001b[1;33m    (name = model_name,\u001b[0m\n\u001b[1;37m     ^\u001b[0m\n\u001b[1;31mSyntaxError\u001b[0m\u001b[1;31m:\u001b[0m invalid syntax. Maybe you meant '==' or ':=' instead of '='?\n"
     ]
    }
   ],
   "source": [
    "client.update_registered_model\n",
    "(name = model_name,\n",
    "version =4, \n",
    "description = f\"The model version {version} was\"\n",
    ")"
   ]
  }
 ],
 "metadata": {
  "kernelspec": {
   "display_name": "Python 3",
   "language": "python",
   "name": "python3"
  },
  "language_info": {
   "codemirror_mode": {
    "name": "ipython",
    "version": 3
   },
   "file_extension": ".py",
   "mimetype": "text/x-python",
   "name": "python",
   "nbconvert_exporter": "python",
   "pygments_lexer": "ipython3",
   "version": "3.10.13"
  }
 },
 "nbformat": 4,
 "nbformat_minor": 5
}
